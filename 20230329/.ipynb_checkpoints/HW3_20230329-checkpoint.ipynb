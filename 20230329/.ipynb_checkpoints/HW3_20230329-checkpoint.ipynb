{
 "cells": [
  {
   "cell_type": "code",
   "execution_count": 1,
   "id": "df3eb718",
   "metadata": {},
   "outputs": [
    {
     "name": "stdout",
     "output_type": "stream",
     "text": [
      "Requirement already satisfied: openai in c:\\users\\joyce\\appdata\\roaming\\python\\python39\\site-packages (0.27.2)\n",
      "Requirement already satisfied: tqdm in c:\\programdata\\anaconda3\\lib\\site-packages (from openai) (4.64.1)\n",
      "Requirement already satisfied: aiohttp in c:\\users\\joyce\\appdata\\roaming\\python\\python39\\site-packages (from openai) (3.8.4)\n",
      "Requirement already satisfied: requests>=2.20 in c:\\programdata\\anaconda3\\lib\\site-packages (from openai) (2.28.1)\n",
      "Requirement already satisfied: idna<4,>=2.5 in c:\\programdata\\anaconda3\\lib\\site-packages (from requests>=2.20->openai) (3.3)\n",
      "Requirement already satisfied: certifi>=2017.4.17 in c:\\programdata\\anaconda3\\lib\\site-packages (from requests>=2.20->openai) (2022.9.14)\n",
      "Requirement already satisfied: charset-normalizer<3,>=2 in c:\\programdata\\anaconda3\\lib\\site-packages (from requests>=2.20->openai) (2.0.4)\n",
      "Requirement already satisfied: urllib3<1.27,>=1.21.1 in c:\\programdata\\anaconda3\\lib\\site-packages (from requests>=2.20->openai) (1.26.11)\n",
      "Requirement already satisfied: multidict<7.0,>=4.5 in c:\\users\\joyce\\appdata\\roaming\\python\\python39\\site-packages (from aiohttp->openai) (6.0.4)\n",
      "Requirement already satisfied: async-timeout<5.0,>=4.0.0a3 in c:\\users\\joyce\\appdata\\roaming\\python\\python39\\site-packages (from aiohttp->openai) (4.0.2)\n",
      "Requirement already satisfied: aiosignal>=1.1.2 in c:\\users\\joyce\\appdata\\roaming\\python\\python39\\site-packages (from aiohttp->openai) (1.3.1)\n",
      "Requirement already satisfied: frozenlist>=1.1.1 in c:\\users\\joyce\\appdata\\roaming\\python\\python39\\site-packages (from aiohttp->openai) (1.3.3)\n",
      "Requirement already satisfied: attrs>=17.3.0 in c:\\programdata\\anaconda3\\lib\\site-packages (from aiohttp->openai) (21.4.0)\n",
      "Requirement already satisfied: yarl<2.0,>=1.0 in c:\\users\\joyce\\appdata\\roaming\\python\\python39\\site-packages (from aiohttp->openai) (1.8.2)\n",
      "Requirement already satisfied: colorama in c:\\programdata\\anaconda3\\lib\\site-packages (from tqdm->openai) (0.4.5)\n"
     ]
    }
   ],
   "source": [
    "!pip3 install openai"
   ]
  },
  {
   "cell_type": "code",
   "execution_count": 2,
   "id": "9ba0fb56",
   "metadata": {},
   "outputs": [],
   "source": [
    "import openai\n",
    "import pandas as pd"
   ]
  },
  {
   "cell_type": "code",
   "execution_count": 3,
   "id": "32bea8e0",
   "metadata": {},
   "outputs": [],
   "source": [
    "with open('01.txt', 'r') as fh1:\n",
    "    tmp1 = fh1.read()\n",
    "    itemlist1 = tmp1.split(',')"
   ]
  },
  {
   "cell_type": "code",
   "execution_count": 4,
   "id": "958f7fa3",
   "metadata": {},
   "outputs": [],
   "source": [
    "with open('02.txt', 'r',encoding='utf-8') as fh2:\n",
    "    tmp2 = fh2.read()\n",
    "    itemlist2 = tmp2.split(',')"
   ]
  },
  {
   "cell_type": "code",
   "execution_count": 5,
   "id": "e71e9d32",
   "metadata": {},
   "outputs": [],
   "source": [
    "with open('03.txt', 'r',encoding='utf-8') as fh3:\n",
    "    tmp3 = fh3.read()\n",
    "    itemlist3 = tmp3.split(',')"
   ]
  },
  {
   "cell_type": "code",
   "execution_count": 6,
   "id": "cee5dc18",
   "metadata": {},
   "outputs": [],
   "source": [
    "with open('04.txt', 'r',encoding='utf-8') as fh4:\n",
    "    tmp4 = fh4.read()\n",
    "    itemlist4 = tmp4.split(',')"
   ]
  },
  {
   "cell_type": "code",
   "execution_count": 7,
   "id": "0e5dd1ad",
   "metadata": {},
   "outputs": [],
   "source": [
    "itemlist1 = str(itemlist1)\n",
    "itemlist2 = str(itemlist2)\n",
    "itemlist3 = str(itemlist3)\n",
    "itemlist4 = str(itemlist4)"
   ]
  },
  {
   "cell_type": "code",
   "execution_count": 17,
   "id": "85c9ee66",
   "metadata": {},
   "outputs": [],
   "source": [
    "keyfile = open(\"key.txt\", \"r\")\n",
    "key = keyfile.readline()\n",
    "openai.api_key = key"
   ]
  },
  {
   "cell_type": "code",
   "execution_count": 18,
   "id": "bfeecd99",
   "metadata": {},
   "outputs": [],
   "source": [
    "data1 = [itemlist1[0:3200], itemlist1[3201:6400], \n",
    "        itemlist1[6401:9600], itemlist1[9601:12800], itemlist1[12801:16000]]\n",
    "data2 = [itemlist2[0:3200], itemlist2[3201:6400], \n",
    "        itemlist2[6401:9600], itemlist2[9601:12800], itemlist2[12801:16000]]\n",
    "data3 = [itemlist3[0:3200], itemlist3[3201:6400], \n",
    "        itemlist3[6401:9600], itemlist3[9601:12800], itemlist3[12801:16000]]\n",
    "data4 = [itemlist4[0:3200], itemlist4[3201:6400], \n",
    "        itemlist4[6401:9600], itemlist4[9601:12800], itemlist4[12801:16000]]"
   ]
  },
  {
   "cell_type": "code",
   "execution_count": 19,
   "id": "6316eab7",
   "metadata": {},
   "outputs": [
    {
     "data": {
      "text/plain": [
       "\"['\\\\nBlockchain in education management: present and future applications \\\\nPreeti Bhaskar \\\\nUniversity of Technology and Applied Sciences', ' Ibra', ' Oman and ICFAI Business School', ' ICFAI University', ' Dehradun', ' India \\\\n\\\\nChandan Kumar Tiwari \\\\nSymbiosis Centre for Management Studies', ' Noida', ' India and Symbiosis International (Deemed University)', ' Pune', ' India', ' and \\\\n\\\\nAmit Joshi \\\\nICFAI Business School', ' ICFAI University', ' Dehradun', ' India \\\\nAbstract \\\\nPurpose   This paper aims to provide a systematic literature review on blockchain technology in education to offer a detailed understanding of the present scenario in terms of bene.ts', ' barriers', ' present blockchain technology application and future areas where blockchain technology can be implemented in the other .elds of education. \\\\nDesign/methodology/approach   A bibliometric analysis is conducted on for data in the publications', ' journals', ' authors and citations were collected', ' and examined by applying bibliometric measures. The data was collected from SCOPUS database on the topic  Blockchain Technology in Education . The following research questions guided this systematic literature review (SLR: How blockchain technology has been de.ned in educational settings? How were the technology examined (i.e. the methodology)? What were the results of using this technology in an education system? \\\\nFindings   The study identi.es the bene.ts', ' barriers and present application of blockchain technology in education. The analysis shows that blockchain technology in education is still a young discipline', ' but has a lot of potential to bene.ts the educational sector at large. \\\\nPractical implications   This research provides a groundwork for education institutions', ' the policymakers and researchers to explore other areas where blockchain technology can be implemented', ' though this research has also suggested some prospective uses of blockchain technology in different functions of an education system', ' more application can be brought into the education system to exploit the potential of blockchain technology. \\\\nOriginality/value   The paper discusses the application of blockchain technology in education with the help of bibliometric analysis. This is one of the .rst known studies to review the blockchain technology by identifying its bene.ts', ' barriers', ' present blockchain technology application. Based on the analysis', ' future application areas are also identi.ed. \\\\nKeywords Systematic review', ' Education', ' Blockchain technology', ' Blockchain application \\\\nPaper type Literature review \\\\n1. Introduction \\\\nBlockchain was .rst used to a peer-to-peer ledger for record-keeping of the transactions of Bitcoin cryptocurrency. A blockchain transaction in the public ledger contains a veri.able record and once the information entered', ' it cannot be altered or erased in the future. The \\\\nBlockchain in education management \\\\nReceived 4 July 2020 Revised 19 September 2020 Accepted 10 October 2020 \\\\n\\\\nInteractive Technology and Smart Education Vol. 18 No. 1', ' 2021 pp. 1-17   Emerald Publishing Limited 1741-5659 DOI 10.1108/ITSE-07-2020-0102 \\\\n\\\\nBlockchain tech\""
      ]
     },
     "execution_count": 19,
     "metadata": {},
     "output_type": "execute_result"
    }
   ],
   "source": [
    "data1[0]"
   ]
  },
  {
   "cell_type": "code",
   "execution_count": 20,
   "id": "af436d6e",
   "metadata": {},
   "outputs": [],
   "source": [
    "def chatgptfn(sub_list):\n",
    "    result = ''\n",
    "    response = openai.ChatCompletion.create(\n",
    "        model=\"gpt-3.5-turbo\",\n",
    "        messages=[\n",
    "            {\"role\": \"system\", \"content\": \"You are an assistant\"},\n",
    "            {\"role\": \"user\", \"content\": f\"{sub_list} :give me a summary\"}\n",
    "        ]\n",
    "    )\n",
    "    for choice in response.choices:\n",
    "        result += choice.message.content\n",
    "    return result"
   ]
  },
  {
   "cell_type": "code",
   "execution_count": 21,
   "id": "c3fe940d",
   "metadata": {},
   "outputs": [],
   "source": [
    "data1[0] = chatgptfn(data1[0])\n",
    "data2[0] = chatgptfn(data2[0])\n",
    "data3[0] = chatgptfn(data3[0])\n",
    "data4[0] = chatgptfn(data4[0])"
   ]
  },
  {
   "cell_type": "code",
   "execution_count": 22,
   "id": "c58ffdeb",
   "metadata": {},
   "outputs": [
    {
     "data": {
      "text/plain": [
       "'This research paper provides a systematic literature review on the use and potential applications of blockchain technology in the education sector. The study identifies the benefits, barriers, and present applications of blockchain technology in education, and suggests future areas where it can be implemented to further benefit the educational sector. The paper is based on a bibliometric analysis, and includes a discussion on the definition of blockchain technology in educational settings, the methodologies used to examine the technology, and the results of using the technology in the education system. The study concludes that although blockchain technology in education is a young discipline, it has a lot of potential to benefit the educational sector at large. This research provides a groundwork for education institutions, policymakers, and researchers to explore other areas where blockchain technology can be implemented.'"
      ]
     },
     "execution_count": 22,
     "metadata": {},
     "output_type": "execute_result"
    }
   ],
   "source": [
    "data1[0]"
   ]
  },
  {
   "cell_type": "code",
   "execution_count": 23,
   "id": "a68d919c",
   "metadata": {},
   "outputs": [],
   "source": [
    "data1[1] = chatgptfn(data1[1])\n",
    "data2[1] = chatgptfn(data2[1])\n",
    "data3[1] = chatgptfn(data3[1])\n",
    "data4[1] = chatgptfn(data4[1])"
   ]
  },
  {
   "cell_type": "code",
   "execution_count": 24,
   "id": "781d0043",
   "metadata": {},
   "outputs": [],
   "source": [
    "data1[2] = chatgptfn(data1[2])\n",
    "data1[3] = chatgptfn(data1[3])\n",
    "data2[2] = chatgptfn(data2[2])\n",
    "data2[3] = chatgptfn(data2[3])\n",
    "data3[2] = chatgptfn(data3[2])\n",
    "data3[3] = chatgptfn(data3[3])\n",
    "data4[2] = chatgptfn(data4[2])\n",
    "data4[3] = chatgptfn(data4[3])"
   ]
  },
  {
   "cell_type": "code",
   "execution_count": 26,
   "id": "a2ccbf11",
   "metadata": {},
   "outputs": [],
   "source": [
    "for i in range(0,5):\n",
    "    data1[i] = chatgptfn(data1[i])\n",
    "    data2[i] = chatgptfn(data2[i])\n",
    "    data3[i] = chatgptfn(data3[i])\n",
    "    data4[i] = chatgptfn(data4[i])"
   ]
  },
  {
   "cell_type": "code",
   "execution_count": 27,
   "id": "e4aa0a1a",
   "metadata": {},
   "outputs": [],
   "source": [
    "papers = data1 + data2 + data3 + data4"
   ]
  },
  {
   "cell_type": "code",
   "execution_count": 28,
   "id": "a6d6609b",
   "metadata": {},
   "outputs": [],
   "source": [
    "import gensim\n",
    "from gensim import corpora\n",
    "from pprint import pprint"
   ]
  },
  {
   "cell_type": "code",
   "execution_count": 29,
   "id": "f80dafe3",
   "metadata": {},
   "outputs": [],
   "source": [
    "# 創建詞袋\n",
    "texts = [[word for word in document.lower().split()] for document in papers]\n",
    "dictionary = corpora.Dictionary(texts)\n",
    "corpus = [dictionary.doc2bow(text) for text in texts]"
   ]
  },
  {
   "cell_type": "code",
   "execution_count": 30,
   "id": "31469bd9",
   "metadata": {},
   "outputs": [],
   "source": [
    "# 訓練 LDA 模型\n",
    "lda_model = gensim.models.ldamodel.LdaModel(corpus=corpus, id2word=dictionary, \n",
    "                                            num_topics=3, random_state=100, update_every=1, \n",
    "                                            chunksize=100, passes=10, alpha='auto', per_word_topics=True)"
   ]
  },
  {
   "cell_type": "code",
   "execution_count": 19,
   "id": "edbc2023",
   "metadata": {},
   "outputs": [
    {
     "name": "stdout",
     "output_type": "stream",
     "text": [
      "Requirement already satisfied: pyLDAvis in c:\\programdata\\anaconda3\\lib\\site-packages (3.4.0)\n",
      "Requirement already satisfied: pandas>=1.3.4 in c:\\programdata\\anaconda3\\lib\\site-packages (from pyLDAvis) (1.4.4)\n",
      "Requirement already satisfied: scipy in c:\\programdata\\anaconda3\\lib\\site-packages (from pyLDAvis) (1.9.1)\n",
      "Requirement already satisfied: numexpr in c:\\programdata\\anaconda3\\lib\\site-packages (from pyLDAvis) (2.8.3)\n",
      "Requirement already satisfied: jinja2 in c:\\programdata\\anaconda3\\lib\\site-packages (from pyLDAvis) (2.11.3)\n",
      "Requirement already satisfied: gensim in c:\\programdata\\anaconda3\\lib\\site-packages (from pyLDAvis) (4.1.2)\n",
      "Requirement already satisfied: funcy in c:\\programdata\\anaconda3\\lib\\site-packages (from pyLDAvis) (2.0)\n",
      "Requirement already satisfied: joblib>=1.2.0 in c:\\programdata\\anaconda3\\lib\\site-packages (from pyLDAvis) (1.2.0)\n",
      "Requirement already satisfied: setuptools in c:\\programdata\\anaconda3\\lib\\site-packages (from pyLDAvis) (63.4.1)\n",
      "Requirement already satisfied: scikit-learn>=1.0.0 in c:\\programdata\\anaconda3\\lib\\site-packages (from pyLDAvis) (1.0.2)\n",
      "Requirement already satisfied: numpy>=1.22.0 in c:\\programdata\\anaconda3\\lib\\site-packages (from pyLDAvis) (1.24.2)\n",
      "Requirement already satisfied: python-dateutil>=2.8.1 in c:\\programdata\\anaconda3\\lib\\site-packages (from pandas>=1.3.4->pyLDAvis) (2.8.2)\n",
      "Requirement already satisfied: pytz>=2020.1 in c:\\programdata\\anaconda3\\lib\\site-packages (from pandas>=1.3.4->pyLDAvis) (2022.1)\n",
      "Requirement already satisfied: threadpoolctl>=2.0.0 in c:\\programdata\\anaconda3\\lib\\site-packages (from scikit-learn>=1.0.0->pyLDAvis) (2.2.0)\n",
      "Requirement already satisfied: smart-open>=1.8.1 in c:\\programdata\\anaconda3\\lib\\site-packages (from gensim->pyLDAvis) (5.2.1)\n",
      "Requirement already satisfied: MarkupSafe>=0.23 in c:\\programdata\\anaconda3\\lib\\site-packages (from jinja2->pyLDAvis) (2.0.1)\n",
      "Requirement already satisfied: packaging in c:\\programdata\\anaconda3\\lib\\site-packages (from numexpr->pyLDAvis) (21.3)\n",
      "Requirement already satisfied: six>=1.5 in c:\\programdata\\anaconda3\\lib\\site-packages (from python-dateutil>=2.8.1->pandas>=1.3.4->pyLDAvis) (1.16.0)\n",
      "Requirement already satisfied: pyparsing!=3.0.5,>=2.0.2 in c:\\programdata\\anaconda3\\lib\\site-packages (from packaging->numexpr->pyLDAvis) (3.0.9)\n"
     ]
    }
   ],
   "source": [
    "!pip install pyLDAvis"
   ]
  },
  {
   "cell_type": "code",
   "execution_count": 31,
   "id": "d788ece8",
   "metadata": {},
   "outputs": [
    {
     "name": "stderr",
     "output_type": "stream",
     "text": [
      "C:\\ProgramData\\Anaconda3\\lib\\site-packages\\pyLDAvis\\_prepare.py:243: FutureWarning: In a future version of pandas all arguments of DataFrame.drop except for the argument 'labels' will be keyword-only.\n",
      "  default_term_info = default_term_info.sort_values(\n"
     ]
    },
    {
     "data": {
      "text/html": [
       "\n",
       "<link rel=\"stylesheet\" type=\"text/css\" href=\"https://cdn.jsdelivr.net/gh/bmabey/pyLDAvis@3.4.0/pyLDAvis/js/ldavis.v1.0.0.css\">\n",
       "\n",
       "\n",
       "<div id=\"ldavis_el1178022905306565441393980167\" style=\"background-color:white;\"></div>\n",
       "<script type=\"text/javascript\">\n",
       "\n",
       "var ldavis_el1178022905306565441393980167_data = {\"mdsDat\": {\"x\": [0.05816562395520013, -0.07192217846571122, 0.013756554510511096], \"y\": [-0.03528204200753618, -0.018287416249467, 0.05356945825700318], \"topics\": [1, 2, 3], \"cluster\": [1, 1, 1], \"Freq\": [55.36239987762242, 38.774143802270665, 5.863456320106904]}, \"tinfo\": {\"Term\": [\"blockchain\", \"technology\", \"the\", \"to\", \"can\", \"be\", \"that\", \"education\", \"areas\", \"its\", \"in\", \"could\", \"sector.\", \"paper\", \"and\", \"it\", \"of\", \"researchers\", \"benefit\", \"where\", \"potential\", \"suggests\", \"education,\", \"study\", \"research\", \"future\", \"use\", \"educational\", \"institutions,\", \"explores\", \"like\", \"making\", \"-\", \"for\", \"would\", \"pradesh\", \"himachal\", \"way\", \"becoming\", \"have\", \"what\", \"revolutionize\", \"machine\", \"of?\", \"you\", \"established\", \"private\", \"standards\", \"higher\", \"offers\", \"we\", \"advantages\", \"using\", \"valuable\", \"institutions\", \"remote\", \"improve\", \"emphasizes\", \"advancements\", \"increasingly\", \"with\", \"can\", \"it\", \"the\", \"and\", \"please\", \"also\", \"as\", \"summary\", \"technology\", \"in\", \"a\", \"to\", \"more\", \"of\", \"education\", \"is\", \"blockchain\", \"that\", \"provide\", \"learning\", \"article\", \"this\", \"online\", \"has\", \"its\", \"accurate\", \"science,\", \"technology,\", \"still\", \"limited\", \"including\", \"there\", \"teachers\", \"health,\", \"role\", \"topics,\", \"my\", \"assistant,\", \"wide\", \"timely\", \"designed\", \"entertainment,\", \"assistance\", \"their\", \"contribute\", \"more.\", \"convenience.\", \"users\", \"productivity\", \"range\", \"ai\", \"answer\", \"led\", \"focus\", \"will\", \"of\", \"has\", \"online\", \"to\", \"on\", \"or\", \"and\", \"a\", \"the\", \"learning\", \"is\", \"in\", \"but\", \"provide\", \"information\", \"literature\", \"pandemic\", \"been\", \"review\", \"topic\", \"an\", \"that\", \"education\", \"be\", \"this\", \"article\", \"technology\", \"more\", \"blockchain\", \"with\", \"education,\", \"i\", \"summary\", \"where\", \"researchers\", \"benefit\", \"discipline\", \"applications\", \"implemented.\", \"policymakers,\", \"present\", \"highlighting\", \"promising\", \"other\", \"benefits.\", \"barriers\", \"identifies\", \"explore\", \"implementation.\", \"cases\", \"implemented\", \"conclude\", \"reviews\", \"areas\", \"educational\", \"institutions,\", \"explores\", \"research\", \"future\", \"use\", \"blockchain\", \"sector.\", \"paper\", \"be\", \"technology\", \"can\", \"that\", \"the\", \"to\", \"education\", \"and\", \"in\", \"is\", \"a\", \"study\", \"potential\", \"it\", \"suggests\"], \"Freq\": [7.0, 10.0, 49.0, 23.0, 6.0, 5.0, 7.0, 8.0, 1.0, 3.0, 19.0, 2.0, 2.0, 2.0, 50.0, 5.0, 23.0, 1.0, 1.0, 1.0, 3.0, 3.0, 3.0, 3.0, 2.0, 2.0, 2.0, 1.0, 1.0, 1.0, 3.3679559829145456, 3.366250657757356, 3.365343747478003, 8.815961693638148, 2.5946740184748336, 2.5918820392320727, 2.59204787337143, 2.590659070411261, 2.5894735031391205, 2.5894398108349455, 2.5894059639789164, 2.589834381718243, 2.5896286732005502, 2.587251820237671, 6.475767812323252, 1.8150722741726402, 1.8144721493235043, 1.8141529997449657, 1.814902112581371, 1.815014008123677, 1.8140973610775206, 1.814313115465724, 1.814390855048293, 1.8141944196418414, 1.8135709574627494, 1.8133239836000352, 1.8133072919998017, 1.8139423455679446, 1.813379467715626, 1.813268654036298, 6.480627540820864, 4.921980747994635, 4.150504567417221, 28.298486508047063, 28.260184849377925, 3.3695784682779832, 3.3695240660253702, 3.365125520260135, 4.1515861212916105, 6.4945841914457345, 10.38949863028749, 9.608325557285537, 11.17031314298813, 4.14412281226128, 10.39433053945138, 4.937123429547208, 4.925213663676898, 4.158887769082643, 4.165470750752511, 4.145512233428865, 4.155417770856324, 3.3787208286503208, 3.3725573007122467, 3.3855517114940263, 3.3746332412153612, 3.076475375202372, 1.6560524298713777, 1.655749131792834, 1.6550315861245013, 1.6556987985999279, 1.6557542192338373, 1.6547314271053, 1.65310831693836, 1.6536299420063483, 0.9469141366490368, 0.9469037452801788, 0.9469163015175489, 0.9469040700104556, 0.9468931374244696, 0.9468832872727395, 0.9468968177009401, 0.9468745195552656, 0.9468705145485182, 0.9468548192518056, 0.9468507060016326, 0.9468550357386567, 0.946834144757515, 0.946837175573432, 0.9468389074682417, 0.9468387992248161, 0.9467815384526713, 0.9467540446225677, 0.9467229787594192, 0.9466081324848528, 0.9465971998988667, 2.3680868841891938, 13.013280080661776, 5.204086716686867, 5.198879341967884, 11.609749929060902, 3.791081368582275, 3.7788108938557445, 21.59039646919291, 8.765517967559154, 19.450610989630675, 4.496649685384752, 5.211865955198214, 8.059050364376752, 2.366322732838691, 3.793570967371179, 1.6589750023627003, 1.6569352632506085, 1.6567106581424789, 1.6549593877596231, 1.6554332774769198, 1.6544047484468256, 2.372248843903688, 3.08065054061479, 3.0844488024192533, 2.3739400391853334, 2.36804683412172, 2.3665963722186194, 3.0908944819271524, 2.373407048557657, 2.3819398777980623, 1.6670284214711033, 1.6607786625635486, 1.6588698979964382, 1.658691729317893, 0.6299000371887006, 0.6297360232616852, 0.6294719641129216, 0.36025452823866577, 0.3602077793588698, 0.36014325411931947, 0.36014250116117147, 0.36013448052003, 0.3601305520427362, 0.3600651756331055, 0.36007375280853027, 0.3600284443704087, 0.3600281824719224, 0.35996637442916696, 0.3599680440320168, 0.35996048171322625, 0.3599374673837469, 0.3599155006482125, 0.3598706505324418, 0.35978864356893414, 0.6294550061859367, 0.3604157922315755, 0.35962436774343254, 0.35959824336942886, 0.3609669248585822, 0.3599243397221235, 0.3598819776419722, 1.1700794147541371, 0.3602244099127468, 0.359974002222579, 0.6303559369786439, 0.9004979399839911, 0.6319082093066599, 0.6296050740185591, 1.4445128863552108, 0.9033649427129925, 0.630961249854994, 0.9118672151706799, 0.6320627948881702, 0.36516329156648847, 0.362734248581122, 0.3612649653359371, 0.3606323495423952, 0.36039379275873035, 0.36032615747465574], \"Total\": [7.0, 10.0, 49.0, 23.0, 6.0, 5.0, 7.0, 8.0, 1.0, 3.0, 19.0, 2.0, 2.0, 2.0, 50.0, 5.0, 23.0, 1.0, 1.0, 1.0, 3.0, 3.0, 3.0, 3.0, 2.0, 2.0, 2.0, 1.0, 1.0, 1.0, 3.703517500701457, 3.701645193503819, 3.702322791701674, 9.868755536727235, 2.9251559095385566, 2.922699780306361, 2.9230881844871095, 2.924166323089795, 2.9228329420586356, 2.922878618857875, 2.9229272777776067, 2.924065206592566, 2.92468540530335, 2.923275579305046, 7.526192761527086, 2.1445591581287395, 2.1440098470297393, 2.1440843757471852, 2.1449932067638438, 2.1454123003074947, 2.14519361404579, 2.1454595645155257, 2.145619250836464, 2.145439642316122, 2.144982778223762, 2.14479421403595, 2.1448056985282387, 2.145662369628551, 2.1450287582506964, 2.1449800560410166, 8.240304016798296, 6.518647347391516, 5.468676456479213, 49.19361038403295, 50.76244853374151, 4.413630021694608, 4.413910229807963, 4.413550455721084, 5.902591747200359, 10.485976613356877, 19.080611789552414, 18.736577773425815, 23.683428014762026, 6.610767751637945, 23.50229732517378, 8.652533481821456, 10.502242910441602, 7.710907061634843, 7.87572636538586, 8.03203127639103, 8.744339940133791, 5.836175539332156, 5.833053105569106, 8.676372170294897, 8.672470645957318, 3.7043408259667427, 2.0071892454336315, 2.006920479224545, 2.006571440120598, 2.0074592541202714, 2.0077388055269254, 2.0076467563537337, 2.0058614356208304, 2.008075822732825, 1.2973284995596184, 1.297319581242719, 1.2973370475352313, 1.2973309154653432, 1.2973226357225054, 1.2973097601371937, 1.2973286363045573, 1.297307053615801, 1.2973053460361597, 1.297291961812969, 1.2972914054399034, 1.2973010801085039, 1.2972812938289404, 1.2972867109925021, 1.2972912109480315, 1.2972930259502213, 1.2972511264110587, 1.2972461400180413, 1.2972180818763086, 1.2974151501484026, 1.2974182708448971, 3.4971734665743237, 23.50229732517378, 8.672470645957318, 8.676372170294897, 23.683428014762026, 6.474820936880039, 6.473389605706107, 50.76244853374151, 18.736577773425815, 49.19361038403295, 8.744339940133791, 10.502242910441602, 19.080611789552414, 4.27478342603865, 8.03203127639103, 2.7862272461972424, 2.7862453708672588, 2.786731589495695, 2.7852861376590474, 2.787244373644387, 2.7857054988921464, 5.0553520749050405, 7.87572636538586, 8.652533481821456, 5.604194465511896, 5.833053105569106, 5.836175539332156, 10.485976613356877, 6.610767751637945, 7.710907061634843, 8.240304016798296, 3.0620084856082284, 3.5656299243655893, 5.902591747200359, 1.135186860544556, 1.1355853993711946, 1.1359960251377017, 0.861020589135691, 0.8610820775209485, 0.861220100083558, 0.8612301145752985, 0.8612368176560139, 0.861274655368454, 0.8613105520682778, 0.8613550528385864, 0.8614233635765245, 0.8614328704975067, 0.8615140188734136, 0.8615405054119858, 0.8615501535958022, 0.8615502033346946, 0.8615535282322182, 0.8616971905777457, 0.8618130042603, 1.9153423002233836, 1.6401826126119823, 1.641613362195801, 1.641669365103628, 2.3496294904873145, 2.3513117033580135, 2.3513626434111723, 7.710907061634843, 2.4201835688354785, 2.420686303139253, 5.604194465511896, 10.485976613356877, 6.518647347391516, 7.87572636538586, 49.19361038403295, 23.683428014762026, 8.652533481821456, 50.76244853374151, 19.080611789552414, 10.502242910441602, 18.736577773425815, 3.1285657317630897, 3.9092325067967812, 5.468676456479213, 3.061253558656631], \"Category\": [\"Default\", \"Default\", \"Default\", \"Default\", \"Default\", \"Default\", \"Default\", \"Default\", \"Default\", \"Default\", \"Default\", \"Default\", \"Default\", \"Default\", \"Default\", \"Default\", \"Default\", \"Default\", \"Default\", \"Default\", \"Default\", \"Default\", \"Default\", \"Default\", \"Default\", \"Default\", \"Default\", \"Default\", \"Default\", \"Default\", \"Topic1\", \"Topic1\", \"Topic1\", \"Topic1\", \"Topic1\", \"Topic1\", \"Topic1\", \"Topic1\", \"Topic1\", \"Topic1\", \"Topic1\", \"Topic1\", \"Topic1\", \"Topic1\", \"Topic1\", \"Topic1\", \"Topic1\", \"Topic1\", \"Topic1\", \"Topic1\", \"Topic1\", \"Topic1\", \"Topic1\", \"Topic1\", \"Topic1\", \"Topic1\", \"Topic1\", \"Topic1\", \"Topic1\", \"Topic1\", \"Topic1\", \"Topic1\", \"Topic1\", \"Topic1\", \"Topic1\", \"Topic1\", \"Topic1\", \"Topic1\", \"Topic1\", \"Topic1\", \"Topic1\", \"Topic1\", \"Topic1\", \"Topic1\", \"Topic1\", \"Topic1\", \"Topic1\", \"Topic1\", \"Topic1\", \"Topic1\", \"Topic1\", \"Topic1\", \"Topic1\", \"Topic1\", \"Topic1\", \"Topic2\", \"Topic2\", \"Topic2\", \"Topic2\", \"Topic2\", \"Topic2\", \"Topic2\", \"Topic2\", \"Topic2\", \"Topic2\", \"Topic2\", \"Topic2\", \"Topic2\", \"Topic2\", \"Topic2\", \"Topic2\", \"Topic2\", \"Topic2\", \"Topic2\", \"Topic2\", \"Topic2\", \"Topic2\", \"Topic2\", \"Topic2\", \"Topic2\", \"Topic2\", \"Topic2\", \"Topic2\", \"Topic2\", \"Topic2\", \"Topic2\", \"Topic2\", \"Topic2\", \"Topic2\", \"Topic2\", \"Topic2\", \"Topic2\", \"Topic2\", \"Topic2\", \"Topic2\", \"Topic2\", \"Topic2\", \"Topic2\", \"Topic2\", \"Topic2\", \"Topic2\", \"Topic2\", \"Topic2\", \"Topic2\", \"Topic2\", \"Topic2\", \"Topic2\", \"Topic2\", \"Topic2\", \"Topic2\", \"Topic2\", \"Topic2\", \"Topic2\", \"Topic2\", \"Topic2\", \"Topic2\", \"Topic2\", \"Topic2\", \"Topic2\", \"Topic3\", \"Topic3\", \"Topic3\", \"Topic3\", \"Topic3\", \"Topic3\", \"Topic3\", \"Topic3\", \"Topic3\", \"Topic3\", \"Topic3\", \"Topic3\", \"Topic3\", \"Topic3\", \"Topic3\", \"Topic3\", \"Topic3\", \"Topic3\", \"Topic3\", \"Topic3\", \"Topic3\", \"Topic3\", \"Topic3\", \"Topic3\", \"Topic3\", \"Topic3\", \"Topic3\", \"Topic3\", \"Topic3\", \"Topic3\", \"Topic3\", \"Topic3\", \"Topic3\", \"Topic3\", \"Topic3\", \"Topic3\", \"Topic3\", \"Topic3\", \"Topic3\", \"Topic3\", \"Topic3\", \"Topic3\", \"Topic3\", \"Topic3\", \"Topic3\"], \"logprob\": [30.0, 29.0, 28.0, 27.0, 26.0, 25.0, 24.0, 23.0, 22.0, 21.0, 20.0, 19.0, 18.0, 17.0, 16.0, 15.0, 14.0, 13.0, 12.0, 11.0, 10.0, 9.0, 8.0, 7.0, 6.0, 5.0, 4.0, 3.0, 2.0, 1.0, -5.2837, -5.2842, -5.2844, -4.3214, -5.5445, -5.5456, -5.5455, -5.5461, -5.5465, -5.5465, -5.5465, -5.5464, -5.5465, -5.5474, -4.6299, -5.9018, -5.9022, -5.9024, -5.9019, -5.9019, -5.9024, -5.9023, -5.9022, -5.9023, -5.9027, -5.9028, -5.9028, -5.9025, -5.9028, -5.9028, -4.6292, -4.9043, -5.0747, -3.1552, -3.1565, -5.2832, -5.2832, -5.2845, -5.0745, -4.627, -4.1572, -4.2353, -4.0847, -5.0763, -4.1567, -4.9012, -4.9036, -5.0727, -5.0711, -5.0759, -5.0736, -5.2805, -5.2823, -5.2785, -5.2817, -5.018, -5.6374, -5.6376, -5.638, -5.6376, -5.6376, -5.6382, -5.6392, -5.6389, -6.1964, -6.1964, -6.1964, -6.1964, -6.1964, -6.1964, -6.1964, -6.1964, -6.1964, -6.1964, -6.1964, -6.1964, -6.1965, -6.1965, -6.1965, -6.1965, -6.1965, -6.1965, -6.1966, -6.1967, -6.1967, -5.2797, -3.5759, -4.4924, -4.4934, -3.69, -4.8092, -4.8124, -3.0696, -3.971, -3.1739, -4.6385, -4.4909, -4.055, -5.2805, -4.8085, -5.6356, -5.6369, -5.637, -5.6381, -5.6378, -5.6384, -5.278, -5.0167, -5.0155, -5.2773, -5.2798, -5.2804, -5.0134, -5.2775, -5.2739, -5.6308, -5.6345, -5.6357, -5.6358, -4.715, -4.7153, -4.7157, -5.2738, -5.2739, -5.2741, -5.2741, -5.2741, -5.2741, -5.2743, -5.2743, -5.2744, -5.2744, -5.2746, -5.2746, -5.2746, -5.2746, -5.2747, -5.2748, -5.2751, -4.7157, -5.2733, -5.2755, -5.2756, -5.2718, -5.2747, -5.2748, -4.0957, -5.2738, -5.2745, -4.7143, -4.3576, -4.7118, -4.7155, -3.885, -4.3544, -4.7133, -4.3451, -4.7116, -5.2602, -5.2669, -5.271, -5.2727, -5.2734, -5.2736], \"loglift\": [30.0, 29.0, 28.0, 27.0, 26.0, 25.0, 24.0, 23.0, 22.0, 21.0, 20.0, 19.0, 18.0, 17.0, 16.0, 15.0, 14.0, 13.0, 12.0, 11.0, 10.0, 9.0, 8.0, 7.0, 6.0, 5.0, 4.0, 3.0, 2.0, 1.0, 0.4963, 0.4963, 0.4958, 0.4785, 0.4714, 0.4711, 0.4711, 0.4702, 0.4702, 0.4701, 0.4701, 0.4699, 0.4696, 0.4692, 0.4409, 0.4245, 0.4244, 0.4242, 0.4242, 0.424, 0.4236, 0.4236, 0.4236, 0.4236, 0.4234, 0.4234, 0.4234, 0.4233, 0.4233, 0.4233, 0.351, 0.3103, 0.3155, 0.0383, 0.0056, 0.3214, 0.3213, 0.3201, 0.2394, 0.1122, -0.0166, -0.0766, -0.1602, 0.1243, -0.2246, 0.0302, -0.166, -0.0261, -0.0457, -0.0701, -0.1527, 0.0447, 0.0434, -0.3498, -0.3526, 0.7617, 0.7551, 0.7551, 0.7548, 0.7548, 0.7547, 0.7541, 0.754, 0.7532, 0.6326, 0.6326, 0.6326, 0.6326, 0.6325, 0.6325, 0.6325, 0.6325, 0.6325, 0.6325, 0.6325, 0.6325, 0.6325, 0.6325, 0.6325, 0.6325, 0.6325, 0.6325, 0.6324, 0.6322, 0.6322, 0.5575, 0.3563, 0.4367, 0.4353, 0.2345, 0.4121, 0.4091, 0.0925, 0.1878, 0.0195, 0.2823, 0.2468, 0.0855, 0.356, 0.1973, 0.4289, 0.4277, 0.4274, 0.4268, 0.4264, 0.4264, 0.1908, 0.0088, -0.0841, 0.0885, 0.0459, 0.0448, -0.2742, -0.077, -0.2273, -0.6506, 0.3356, 0.1822, -0.3219, 2.2474, 2.2468, 2.246, 1.9651, 1.9649, 1.9646, 1.9646, 1.9645, 1.9645, 1.9643, 1.9642, 1.964, 1.964, 1.9638, 1.9637, 1.9637, 1.9636, 1.9636, 1.9633, 1.9629, 1.7236, 1.3211, 1.3181, 1.3179, 0.9632, 0.9596, 0.9595, 0.9509, 0.9316, 0.9307, 0.6514, 0.3816, 0.5028, 0.31, -0.6916, -0.43, 0.2181, -1.183, -0.571, -0.5226, -1.1081, 0.6777, 0.4532, 0.1168, 0.6969]}, \"token.table\": {\"Topic\": [1, 1, 2, 2, 1, 1, 2, 1, 2, 1, 2, 1, 2, 3, 2, 1, 3, 1, 2, 1, 2, 2, 2, 1, 2, 3, 1, 1, 2, 3, 1, 2, 3, 1, 2, 1, 2, 3, 2, 2, 1, 2, 1, 2, 3, 1, 2, 1, 1, 2, 1, 1, 2, 1, 2, 1, 2, 1, 2, 1, 2, 1, 1, 1, 2, 1, 1, 2, 3, 2, 1, 1, 2, 1, 1, 1, 2, 1, 2, 2, 1, 2, 2, 1, 2, 1, 2, 1, 1, 1, 2, 2, 2, 1, 2, 1, 1, 1, 2, 1, 2, 1, 2, 1, 2, 1, 1, 2, 1, 2, 1, 1, 2, 1, 2, 2, 1, 1, 2, 3, 1, 2, 1, 2, 2, 1, 1, 2, 1, 2, 1, 2, 1, 2, 2, 1, 2, 3, 2, 1, 2, 3, 1, 2, 3, 2, 2, 1, 2, 2, 1, 2, 3, 1, 2, 2, 1, 2, 2, 1, 1, 1, 1, 1, 3, 2, 1, 2, 1, 2, 1, 1, 2], \"Freq\": [0.8103021180984411, 0.5337153946108052, 0.48034385514972466, 0.9964182523147794, 0.9323884317667752, 0.9322012090456842, 0.77086373137028, 0.6796694639914599, 0.2265564879971533, 0.5934304783423718, 0.39562031889491456, 0.551588837985003, 0.4333912298453595, 0.01969960135660725, 0.7708804047455078, 0.5220998877763894, 0.5220998877763894, 0.5140352581552569, 0.34269017210350455, 0.6797248677901114, 0.22657495593003715, 0.7708365036059402, 0.7708182779398431, 0.5353133297678982, 0.3568755531785988, 0.1784377765892994, 1.0264014603198681, 0.35902953972279167, 0.7180590794455833, 0.8802847702559375, 0.5187457153908339, 0.25937285769541696, 0.12968642884770848, 0.46785995936485536, 0.46785995936485536, 0.7670302953266502, 0.15340605906533006, 0.15340605906533006, 0.7708310856538884, 0.770839623597886, 0.8260911362573694, 0.7708275363283049, 0.5778654321887055, 0.3467192593132233, 0.1155730864377411, 0.32658302702298453, 0.6531660540459691, 0.6096882092948817, 0.932113098644794, 0.7708285509309287, 0.9325925994716432, 0.609136054589699, 0.770761459485834, 0.9119690893655129, 0.10132989881839032, 0.42529452754896563, 0.42529452754896563, 0.3459221855537157, 0.5765369759228595, 1.0263854204018437, 0.7708147938933375, 0.9324038853332336, 1.026311835517335, 0.5609107065018386, 0.5609107065018386, 0.9324854001331664, 0.5240922099508097, 0.4192737679606478, 0.052409220995080975, 0.996191184365709, 0.932409601836296, 0.3589082697274033, 0.7178165394548066, 0.9324084185217465, 0.6091568349945768, 0.47608877861974325, 0.47608877861974325, 0.7314384077816223, 0.18285960194540557, 0.809860685326403, 0.45743875780048854, 0.45743875780048854, 0.7707633134125317, 0.8100407246440151, 0.9961455118038154, 0.35890593501057505, 0.7178118700211501, 1.025751349037432, 0.8104504465378889, 0.6050734423409329, 0.3025367211704664, 0.7708428424559246, 0.7708133584724659, 0.42549031959053635, 0.5531374154676972, 1.0262460444161046, 0.932221745775088, 0.463333276587195, 0.61777770211626, 0.3457666339246066, 0.5762777232076777, 0.4634357242078534, 0.6179142989438046, 0.3588433144294914, 0.7176866288589828, 0.8262119703021046, 0.6797126141642823, 0.2265708713880941, 0.7674140626795808, 0.2558046875598603, 1.0264482244171984, 0.9328315365578908, 0.7708358713078992, 0.49800602890546614, 0.49800602890546614, 0.7708607683128972, 0.9324903932095729, 0.42559901637623704, 0.42559901637623704, 0.880603079745238, 0.35877729611934844, 0.7175545922386969, 1.025968912470294, 0.7708200927963234, 0.9965516923584242, 0.8263835957544086, 0.932799111183778, 0.9962842313710919, 0.6392705704389687, 0.31963528521948437, 0.3266635647256968, 0.6533271294513936, 0.6776684160643888, 0.3388342080321944, 0.9959783277895183, 0.5721927695659068, 0.2860963847829534, 0.0953654615943178, 0.9967250405396965, 0.5078896617815677, 0.3809172463361758, 0.12697241544539192, 0.569179610551376, 0.3862290214455765, 0.020327843233977714, 0.7708368341967904, 0.9970778461977777, 0.5143104212673378, 0.3428736141782252, 0.7708147126455958, 0.4644597899064119, 0.5066834071706312, 0.04222361726421926, 0.3589754912705928, 0.7179509825411856, 0.7708097151005343, 0.4252853139442917, 0.4252853139442917, 0.7708369497618213, 0.9321318305753946, 0.9322098653126816, 1.025933434877287, 0.9323167787303086, 1.0263683338303902, 0.8809122398759037, 0.7708259281840657, 0.285945209626549, 0.571890419253098, 0.7281284753291484, 0.24270949177638276, 1.0255863594201549, 0.7972158287881246, 0.13286930479802078], \"Term\": [\"-\", \"a\", \"a\", \"accurate\", \"advancements\", \"advantages\", \"ai\", \"also\", \"also\", \"an\", \"an\", \"and\", \"and\", \"and\", \"answer\", \"areas\", \"areas\", \"article\", \"article\", \"as\", \"as\", \"assistance\", \"assistant,\", \"be\", \"be\", \"be\", \"becoming\", \"been\", \"been\", \"benefit\", \"blockchain\", \"blockchain\", \"blockchain\", \"but\", \"but\", \"can\", \"can\", \"can\", \"contribute\", \"convenience.\", \"could\", \"designed\", \"education\", \"education\", \"education\", \"education,\", \"education,\", \"educational\", \"emphasizes\", \"entertainment,\", \"established\", \"explores\", \"focus\", \"for\", \"for\", \"future\", \"future\", \"has\", \"has\", \"have\", \"health,\", \"higher\", \"himachal\", \"i\", \"i\", \"improve\", \"in\", \"in\", \"in\", \"including\", \"increasingly\", \"information\", \"information\", \"institutions\", \"institutions,\", \"is\", \"is\", \"it\", \"it\", \"its\", \"learning\", \"learning\", \"led\", \"like\", \"limited\", \"literature\", \"literature\", \"machine\", \"making\", \"more\", \"more\", \"more.\", \"my\", \"of\", \"of\", \"of?\", \"offers\", \"on\", \"on\", \"online\", \"online\", \"or\", \"or\", \"pandemic\", \"pandemic\", \"paper\", \"please\", \"please\", \"potential\", \"potential\", \"pradesh\", \"private\", \"productivity\", \"provide\", \"provide\", \"range\", \"remote\", \"research\", \"research\", \"researchers\", \"review\", \"review\", \"revolutionize\", \"role\", \"science,\", \"sector.\", \"standards\", \"still\", \"study\", \"study\", \"suggests\", \"suggests\", \"summary\", \"summary\", \"teachers\", \"technology\", \"technology\", \"technology\", \"technology,\", \"that\", \"that\", \"that\", \"the\", \"the\", \"the\", \"their\", \"there\", \"this\", \"this\", \"timely\", \"to\", \"to\", \"to\", \"topic\", \"topic\", \"topics,\", \"use\", \"use\", \"users\", \"using\", \"valuable\", \"way\", \"we\", \"what\", \"where\", \"wide\", \"will\", \"will\", \"with\", \"with\", \"would\", \"you\", \"you\"]}, \"R\": 30, \"lambda.step\": 0.01, \"plot.opts\": {\"xlab\": \"PC1\", \"ylab\": \"PC2\"}, \"topic.order\": [3, 2, 1]};\n",
       "\n",
       "function LDAvis_load_lib(url, callback){\n",
       "  var s = document.createElement('script');\n",
       "  s.src = url;\n",
       "  s.async = true;\n",
       "  s.onreadystatechange = s.onload = callback;\n",
       "  s.onerror = function(){console.warn(\"failed to load library \" + url);};\n",
       "  document.getElementsByTagName(\"head\")[0].appendChild(s);\n",
       "}\n",
       "\n",
       "if(typeof(LDAvis) !== \"undefined\"){\n",
       "   // already loaded: just create the visualization\n",
       "   !function(LDAvis){\n",
       "       new LDAvis(\"#\" + \"ldavis_el1178022905306565441393980167\", ldavis_el1178022905306565441393980167_data);\n",
       "   }(LDAvis);\n",
       "}else if(typeof define === \"function\" && define.amd){\n",
       "   // require.js is available: use it to load d3/LDAvis\n",
       "   require.config({paths: {d3: \"https://d3js.org/d3.v5\"}});\n",
       "   require([\"d3\"], function(d3){\n",
       "      window.d3 = d3;\n",
       "      LDAvis_load_lib(\"https://cdn.jsdelivr.net/gh/bmabey/pyLDAvis@3.4.0/pyLDAvis/js/ldavis.v3.0.0.js\", function(){\n",
       "        new LDAvis(\"#\" + \"ldavis_el1178022905306565441393980167\", ldavis_el1178022905306565441393980167_data);\n",
       "      });\n",
       "    });\n",
       "}else{\n",
       "    // require.js not available: dynamically load d3 & LDAvis\n",
       "    LDAvis_load_lib(\"https://d3js.org/d3.v5.js\", function(){\n",
       "         LDAvis_load_lib(\"https://cdn.jsdelivr.net/gh/bmabey/pyLDAvis@3.4.0/pyLDAvis/js/ldavis.v3.0.0.js\", function(){\n",
       "                 new LDAvis(\"#\" + \"ldavis_el1178022905306565441393980167\", ldavis_el1178022905306565441393980167_data);\n",
       "            })\n",
       "         });\n",
       "}\n",
       "</script>"
      ],
      "text/plain": [
       "<IPython.core.display.HTML object>"
      ]
     },
     "execution_count": 31,
     "metadata": {},
     "output_type": "execute_result"
    }
   ],
   "source": [
    "# 輸出主題模型分析結果\n",
    "import pyLDAvis.gensim\n",
    "pyLDAvis.enable_notebook()\n",
    "vis = pyLDAvis.gensim.prepare(lda_model, corpus, dictionary)\n",
    "pyLDAvis.display(vis)"
   ]
  },
  {
   "cell_type": "code",
   "execution_count": null,
   "id": "dabcffc7",
   "metadata": {},
   "outputs": [],
   "source": []
  }
 ],
 "metadata": {
  "kernelspec": {
   "display_name": "Python 3 (ipykernel)",
   "language": "python",
   "name": "python3"
  },
  "language_info": {
   "codemirror_mode": {
    "name": "ipython",
    "version": 3
   },
   "file_extension": ".py",
   "mimetype": "text/x-python",
   "name": "python",
   "nbconvert_exporter": "python",
   "pygments_lexer": "ipython3",
   "version": "3.9.13"
  }
 },
 "nbformat": 4,
 "nbformat_minor": 5
}
