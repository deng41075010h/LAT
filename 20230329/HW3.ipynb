{
 "cells": [
  {
   "cell_type": "code",
   "execution_count": 1,
   "id": "df3eb718",
   "metadata": {},
   "outputs": [
    {
     "name": "stdout",
     "output_type": "stream",
     "text": [
      "Requirement already satisfied: openai in c:\\users\\joyce\\appdata\\roaming\\python\\python39\\site-packages (0.27.2)\n",
      "Requirement already satisfied: tqdm in c:\\programdata\\anaconda3\\lib\\site-packages (from openai) (4.64.1)\n",
      "Requirement already satisfied: aiohttp in c:\\users\\joyce\\appdata\\roaming\\python\\python39\\site-packages (from openai) (3.8.4)\n",
      "Requirement already satisfied: requests>=2.20 in c:\\programdata\\anaconda3\\lib\\site-packages (from openai) (2.28.1)\n",
      "Requirement already satisfied: idna<4,>=2.5 in c:\\programdata\\anaconda3\\lib\\site-packages (from requests>=2.20->openai) (3.3)\n",
      "Requirement already satisfied: certifi>=2017.4.17 in c:\\programdata\\anaconda3\\lib\\site-packages (from requests>=2.20->openai) (2022.9.14)\n",
      "Requirement already satisfied: charset-normalizer<3,>=2 in c:\\programdata\\anaconda3\\lib\\site-packages (from requests>=2.20->openai) (2.0.4)\n",
      "Requirement already satisfied: urllib3<1.27,>=1.21.1 in c:\\programdata\\anaconda3\\lib\\site-packages (from requests>=2.20->openai) (1.26.11)\n",
      "Requirement already satisfied: multidict<7.0,>=4.5 in c:\\users\\joyce\\appdata\\roaming\\python\\python39\\site-packages (from aiohttp->openai) (6.0.4)\n",
      "Requirement already satisfied: async-timeout<5.0,>=4.0.0a3 in c:\\users\\joyce\\appdata\\roaming\\python\\python39\\site-packages (from aiohttp->openai) (4.0.2)\n",
      "Requirement already satisfied: aiosignal>=1.1.2 in c:\\users\\joyce\\appdata\\roaming\\python\\python39\\site-packages (from aiohttp->openai) (1.3.1)\n",
      "Requirement already satisfied: frozenlist>=1.1.1 in c:\\users\\joyce\\appdata\\roaming\\python\\python39\\site-packages (from aiohttp->openai) (1.3.3)\n",
      "Requirement already satisfied: attrs>=17.3.0 in c:\\programdata\\anaconda3\\lib\\site-packages (from aiohttp->openai) (21.4.0)\n",
      "Requirement already satisfied: yarl<2.0,>=1.0 in c:\\users\\joyce\\appdata\\roaming\\python\\python39\\site-packages (from aiohttp->openai) (1.8.2)\n",
      "Requirement already satisfied: colorama in c:\\programdata\\anaconda3\\lib\\site-packages (from tqdm->openai) (0.4.5)\n"
     ]
    }
   ],
   "source": [
    "!pip3 install openai"
   ]
  },
  {
   "cell_type": "code",
   "execution_count": 2,
   "id": "9ba0fb56",
   "metadata": {},
   "outputs": [],
   "source": [
    "import openai\n",
    "import pandas as pd"
   ]
  },
  {
   "cell_type": "code",
   "execution_count": 3,
   "id": "32bea8e0",
   "metadata": {},
   "outputs": [],
   "source": [
    "with open('01.txt', 'r') as fh1:\n",
    "    tmp1 = fh1.read()\n",
    "    itemlist1 = tmp1.split(',')"
   ]
  },
  {
   "cell_type": "code",
   "execution_count": 4,
   "id": "958f7fa3",
   "metadata": {},
   "outputs": [],
   "source": [
    "with open('02.txt', 'r',encoding='utf-8') as fh2:\n",
    "    tmp2 = fh2.read()\n",
    "    itemlist2 = tmp2.split(',')"
   ]
  },
  {
   "cell_type": "code",
   "execution_count": 5,
   "id": "e71e9d32",
   "metadata": {},
   "outputs": [],
   "source": [
    "with open('03.txt', 'r',encoding='utf-8') as fh3:\n",
    "    tmp3 = fh3.read()\n",
    "    itemlist3 = tmp3.split(',')"
   ]
  },
  {
   "cell_type": "code",
   "execution_count": 6,
   "id": "cee5dc18",
   "metadata": {},
   "outputs": [],
   "source": [
    "with open('04.txt', 'r',encoding='utf-8') as fh4:\n",
    "    tmp4 = fh4.read()\n",
    "    itemlist4 = tmp4.split(',')"
   ]
  },
  {
   "cell_type": "code",
   "execution_count": 7,
   "id": "0e5dd1ad",
   "metadata": {},
   "outputs": [],
   "source": [
    "itemlist1 = str(itemlist1)\n",
    "itemlist2 = str(itemlist2)\n",
    "itemlist3 = str(itemlist3)\n",
    "itemlist4 = str(itemlist4)"
   ]
  },
  {
   "cell_type": "code",
   "execution_count": 17,
   "id": "85c9ee66",
   "metadata": {},
   "outputs": [],
   "source": [
    "keyfile = open(\"key.txt\", \"r\")\n",
    "key = keyfile.readline()\n",
    "openai.api_key = key"
   ]
  },
  {
   "cell_type": "code",
   "execution_count": 18,
   "id": "bfeecd99",
   "metadata": {},
   "outputs": [],
   "source": [
    "data1 = [itemlist1[0:3200], itemlist1[3201:6400], \n",
    "        itemlist1[6401:9600], itemlist1[9601:12800], itemlist1[12801:16000]]\n",
    "data2 = [itemlist2[0:3200], itemlist2[3201:6400], \n",
    "        itemlist2[6401:9600], itemlist2[9601:12800], itemlist2[12801:16000]]\n",
    "data3 = [itemlist3[0:3200], itemlist3[3201:6400], \n",
    "        itemlist3[6401:9600], itemlist3[9601:12800], itemlist3[12801:16000]]\n",
    "data4 = [itemlist4[0:3200], itemlist4[3201:6400], \n",
    "        itemlist4[6401:9600], itemlist4[9601:12800], itemlist4[12801:16000]]"
   ]
  },
  {
   "cell_type": "code",
   "execution_count": 19,
   "id": "6316eab7",
   "metadata": {},
   "outputs": [
    {
     "data": {
      "text/plain": [
       "\"['\\\\nBlockchain in education management: present and future applications \\\\nPreeti Bhaskar \\\\nUniversity of Technology and Applied Sciences', ' Ibra', ' Oman and ICFAI Business School', ' ICFAI University', ' Dehradun', ' India \\\\n\\\\nChandan Kumar Tiwari \\\\nSymbiosis Centre for Management Studies', ' Noida', ' India and Symbiosis International (Deemed University)', ' Pune', ' India', ' and \\\\n\\\\nAmit Joshi \\\\nICFAI Business School', ' ICFAI University', ' Dehradun', ' India \\\\nAbstract \\\\nPurpose   This paper aims to provide a systematic literature review on blockchain technology in education to offer a detailed understanding of the present scenario in terms of bene.ts', ' barriers', ' present blockchain technology application and future areas where blockchain technology can be implemented in the other .elds of education. \\\\nDesign/methodology/approach   A bibliometric analysis is conducted on for data in the publications', ' journals', ' authors and citations were collected', ' and examined by applying bibliometric measures. The data was collected from SCOPUS database on the topic  Blockchain Technology in Education . The following research questions guided this systematic literature review (SLR: How blockchain technology has been de.ned in educational settings? How were the technology examined (i.e. the methodology)? What were the results of using this technology in an education system? \\\\nFindings   The study identi.es the bene.ts', ' barriers and present application of blockchain technology in education. The analysis shows that blockchain technology in education is still a young discipline', ' but has a lot of potential to bene.ts the educational sector at large. \\\\nPractical implications   This research provides a groundwork for education institutions', ' the policymakers and researchers to explore other areas where blockchain technology can be implemented', ' though this research has also suggested some prospective uses of blockchain technology in different functions of an education system', ' more application can be brought into the education system to exploit the potential of blockchain technology. \\\\nOriginality/value   The paper discusses the application of blockchain technology in education with the help of bibliometric analysis. This is one of the .rst known studies to review the blockchain technology by identifying its bene.ts', ' barriers', ' present blockchain technology application. Based on the analysis', ' future application areas are also identi.ed. \\\\nKeywords Systematic review', ' Education', ' Blockchain technology', ' Blockchain application \\\\nPaper type Literature review \\\\n1. Introduction \\\\nBlockchain was .rst used to a peer-to-peer ledger for record-keeping of the transactions of Bitcoin cryptocurrency. A blockchain transaction in the public ledger contains a veri.able record and once the information entered', ' it cannot be altered or erased in the future. The \\\\nBlockchain in education management \\\\nReceived 4 July 2020 Revised 19 September 2020 Accepted 10 October 2020 \\\\n\\\\nInteractive Technology and Smart Education Vol. 18 No. 1', ' 2021 pp. 1-17   Emerald Publishing Limited 1741-5659 DOI 10.1108/ITSE-07-2020-0102 \\\\n\\\\nBlockchain tech\""
      ]
     },
     "execution_count": 19,
     "metadata": {},
     "output_type": "execute_result"
    }
   ],
   "source": [
    "data1[0]"
   ]
  },
  {
   "cell_type": "code",
   "execution_count": 20,
   "id": "af436d6e",
   "metadata": {},
   "outputs": [],
   "source": [
    "def chatgptfn(sub_list):\n",
    "    result = ''\n",
    "    response = openai.ChatCompletion.create(\n",
    "        model=\"gpt-3.5-turbo\",\n",
    "        messages=[\n",
    "            {\"role\": \"system\", \"content\": \"You are an assistant\"},\n",
    "            {\"role\": \"user\", \"content\": f\"{sub_list} :give me a summary\"}\n",
    "        ]\n",
    "    )\n",
    "    for choice in response.choices:\n",
    "        result += choice.message.content\n",
    "    return result"
   ]
  },
  {
   "cell_type": "code",
   "execution_count": 21,
   "id": "c3fe940d",
   "metadata": {},
   "outputs": [],
   "source": [
    "data1[0] = chatgptfn(data1[0])\n",
    "data2[0] = chatgptfn(data2[0])\n",
    "data3[0] = chatgptfn(data3[0])\n",
    "data4[0] = chatgptfn(data4[0])"
   ]
  },
  {
   "cell_type": "code",
   "execution_count": 22,
   "id": "c58ffdeb",
   "metadata": {},
   "outputs": [
    {
     "data": {
      "text/plain": [
       "'This research paper provides a systematic literature review on the use and potential applications of blockchain technology in the education sector. The study identifies the benefits, barriers, and present applications of blockchain technology in education, and suggests future areas where it can be implemented to further benefit the educational sector. The paper is based on a bibliometric analysis, and includes a discussion on the definition of blockchain technology in educational settings, the methodologies used to examine the technology, and the results of using the technology in the education system. The study concludes that although blockchain technology in education is a young discipline, it has a lot of potential to benefit the educational sector at large. This research provides a groundwork for education institutions, policymakers, and researchers to explore other areas where blockchain technology can be implemented.'"
      ]
     },
     "execution_count": 22,
     "metadata": {},
     "output_type": "execute_result"
    }
   ],
   "source": [
    "data1[0]"
   ]
  },
  {
   "cell_type": "code",
   "execution_count": 23,
   "id": "a68d919c",
   "metadata": {},
   "outputs": [],
   "source": [
    "data1[1] = chatgptfn(data1[1])\n",
    "data2[1] = chatgptfn(data2[1])\n",
    "data3[1] = chatgptfn(data3[1])\n",
    "data4[1] = chatgptfn(data4[1])"
   ]
  },
  {
   "cell_type": "code",
   "execution_count": 24,
   "id": "781d0043",
   "metadata": {},
   "outputs": [],
   "source": [
    "data1[2] = chatgptfn(data1[2])\n",
    "data1[3] = chatgptfn(data1[3])\n",
    "data2[2] = chatgptfn(data2[2])\n",
    "data2[3] = chatgptfn(data2[3])\n",
    "data3[2] = chatgptfn(data3[2])\n",
    "data3[3] = chatgptfn(data3[3])\n",
    "data4[2] = chatgptfn(data4[2])\n",
    "data4[3] = chatgptfn(data4[3])"
   ]
  },
  {
   "cell_type": "code",
   "execution_count": 26,
   "id": "a2ccbf11",
   "metadata": {},
   "outputs": [],
   "source": [
    "for i in range(0,5):\n",
    "    data1[i] = chatgptfn(data1[i])\n",
    "    data2[i] = chatgptfn(data2[i])\n",
    "    data3[i] = chatgptfn(data3[i])\n",
    "    data4[i] = chatgptfn(data4[i])"
   ]
  },
  {
   "cell_type": "code",
   "execution_count": 27,
   "id": "e4aa0a1a",
   "metadata": {},
   "outputs": [],
   "source": [
    "papers = data1 + data2 + data3 + data4"
   ]
  },
  {
   "cell_type": "code",
   "execution_count": 28,
   "id": "a6d6609b",
   "metadata": {},
   "outputs": [],
   "source": [
    "import gensim\n",
    "from gensim import corpora\n",
    "from pprint import pprint"
   ]
  },
  {
   "cell_type": "code",
   "execution_count": 29,
   "id": "f80dafe3",
   "metadata": {},
   "outputs": [],
   "source": [
    "# 創建詞袋\n",
    "texts = [[word for word in document.lower().split()] for document in papers]\n",
    "dictionary = corpora.Dictionary(texts)\n",
    "corpus = [dictionary.doc2bow(text) for text in texts]"
   ]
  },
  {
   "cell_type": "code",
   "execution_count": 30,
   "id": "31469bd9",
   "metadata": {},
   "outputs": [],
   "source": [
    "# 訓練 LDA 模型\n",
    "lda_model = gensim.models.ldamodel.LdaModel(corpus=corpus, id2word=dictionary, \n",
    "                                            num_topics=3, random_state=100, update_every=1, \n",
    "                                            chunksize=100, passes=10, alpha='auto', per_word_topics=True)"
   ]
  },
  {
   "cell_type": "code",
   "execution_count": 19,
   "id": "edbc2023",
   "metadata": {},
   "outputs": [
    {
     "name": "stdout",
     "output_type": "stream",
     "text": [
      "Requirement already satisfied: pyLDAvis in c:\\programdata\\anaconda3\\lib\\site-packages (3.4.0)\n",
      "Requirement already satisfied: pandas>=1.3.4 in c:\\programdata\\anaconda3\\lib\\site-packages (from pyLDAvis) (1.4.4)\n",
      "Requirement already satisfied: scipy in c:\\programdata\\anaconda3\\lib\\site-packages (from pyLDAvis) (1.9.1)\n",
      "Requirement already satisfied: numexpr in c:\\programdata\\anaconda3\\lib\\site-packages (from pyLDAvis) (2.8.3)\n",
      "Requirement already satisfied: jinja2 in c:\\programdata\\anaconda3\\lib\\site-packages (from pyLDAvis) (2.11.3)\n",
      "Requirement already satisfied: gensim in c:\\programdata\\anaconda3\\lib\\site-packages (from pyLDAvis) (4.1.2)\n",
      "Requirement already satisfied: funcy in c:\\programdata\\anaconda3\\lib\\site-packages (from pyLDAvis) (2.0)\n",
      "Requirement already satisfied: joblib>=1.2.0 in c:\\programdata\\anaconda3\\lib\\site-packages (from pyLDAvis) (1.2.0)\n",
      "Requirement already satisfied: setuptools in c:\\programdata\\anaconda3\\lib\\site-packages (from pyLDAvis) (63.4.1)\n",
      "Requirement already satisfied: scikit-learn>=1.0.0 in c:\\programdata\\anaconda3\\lib\\site-packages (from pyLDAvis) (1.0.2)\n",
      "Requirement already satisfied: numpy>=1.22.0 in c:\\programdata\\anaconda3\\lib\\site-packages (from pyLDAvis) (1.24.2)\n",
      "Requirement already satisfied: python-dateutil>=2.8.1 in c:\\programdata\\anaconda3\\lib\\site-packages (from pandas>=1.3.4->pyLDAvis) (2.8.2)\n",
      "Requirement already satisfied: pytz>=2020.1 in c:\\programdata\\anaconda3\\lib\\site-packages (from pandas>=1.3.4->pyLDAvis) (2022.1)\n",
      "Requirement already satisfied: threadpoolctl>=2.0.0 in c:\\programdata\\anaconda3\\lib\\site-packages (from scikit-learn>=1.0.0->pyLDAvis) (2.2.0)\n",
      "Requirement already satisfied: smart-open>=1.8.1 in c:\\programdata\\anaconda3\\lib\\site-packages (from gensim->pyLDAvis) (5.2.1)\n",
      "Requirement already satisfied: MarkupSafe>=0.23 in c:\\programdata\\anaconda3\\lib\\site-packages (from jinja2->pyLDAvis) (2.0.1)\n",
      "Requirement already satisfied: packaging in c:\\programdata\\anaconda3\\lib\\site-packages (from numexpr->pyLDAvis) (21.3)\n",
      "Requirement already satisfied: six>=1.5 in c:\\programdata\\anaconda3\\lib\\site-packages (from python-dateutil>=2.8.1->pandas>=1.3.4->pyLDAvis) (1.16.0)\n",
      "Requirement already satisfied: pyparsing!=3.0.5,>=2.0.2 in c:\\programdata\\anaconda3\\lib\\site-packages (from packaging->numexpr->pyLDAvis) (3.0.9)\n"
     ]
    }
   ],
   "source": [
    "!pip install pyLDAvis"
   ]
  },
  {
   "cell_type": "code",
   "execution_count": null,
   "id": "d788ece8",
   "metadata": {},
   "outputs": [
    {
     "name": "stderr",
     "output_type": "stream",
     "text": [
      "C:\\ProgramData\\Anaconda3\\lib\\site-packages\\pyLDAvis\\_prepare.py:243: FutureWarning: In a future version of pandas all arguments of DataFrame.drop except for the argument 'labels' will be keyword-only.\n",
      "  default_term_info = default_term_info.sort_values(\n"
     ]
    }
   ],
   "source": [
    "# 輸出主題模型分析結果\n",
    "import pyLDAvis.gensim\n",
    "pyLDAvis.enable_notebook()\n",
    "vis = pyLDAvis.gensim.prepare(lda_model, corpus, dictionary)\n",
    "pyLDAvis.display(vis)"
   ]
  },
  {
   "cell_type": "code",
   "execution_count": null,
   "id": "dabcffc7",
   "metadata": {},
   "outputs": [],
   "source": []
  }
 ],
 "metadata": {
  "kernelspec": {
   "display_name": "Python 3 (ipykernel)",
   "language": "python",
   "name": "python3"
  },
  "language_info": {
   "codemirror_mode": {
    "name": "ipython",
    "version": 3
   },
   "file_extension": ".py",
   "mimetype": "text/x-python",
   "name": "python",
   "nbconvert_exporter": "python",
   "pygments_lexer": "ipython3",
   "version": "3.9.13"
  }
 },
 "nbformat": 4,
 "nbformat_minor": 5
}
