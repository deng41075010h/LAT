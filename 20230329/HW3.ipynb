{
 "cells": [
  {
   "cell_type": "code",
   "execution_count": 3,
   "id": "df3eb718",
   "metadata": {},
   "outputs": [
    {
     "name": "stdout",
     "output_type": "stream",
     "text": [
      "Requirement already satisfied: openai in c:\\users\\joyce\\appdata\\roaming\\python\\python39\\site-packages (0.27.2)\n",
      "Requirement already satisfied: tqdm in c:\\programdata\\anaconda3\\lib\\site-packages (from openai) (4.64.1)\n",
      "Requirement already satisfied: aiohttp in c:\\users\\joyce\\appdata\\roaming\\python\\python39\\site-packages (from openai) (3.8.4)\n",
      "Requirement already satisfied: requests>=2.20 in c:\\programdata\\anaconda3\\lib\\site-packages (from openai) (2.28.1)\n",
      "Requirement already satisfied: urllib3<1.27,>=1.21.1 in c:\\programdata\\anaconda3\\lib\\site-packages (from requests>=2.20->openai) (1.26.11)\n",
      "Requirement already satisfied: idna<4,>=2.5 in c:\\programdata\\anaconda3\\lib\\site-packages (from requests>=2.20->openai) (3.3)\n",
      "Requirement already satisfied: certifi>=2017.4.17 in c:\\programdata\\anaconda3\\lib\\site-packages (from requests>=2.20->openai) (2022.9.14)\n",
      "Requirement already satisfied: charset-normalizer<3,>=2 in c:\\programdata\\anaconda3\\lib\\site-packages (from requests>=2.20->openai) (2.0.4)\n",
      "Requirement already satisfied: frozenlist>=1.1.1 in c:\\users\\joyce\\appdata\\roaming\\python\\python39\\site-packages (from aiohttp->openai) (1.3.3)\n",
      "Requirement already satisfied: async-timeout<5.0,>=4.0.0a3 in c:\\users\\joyce\\appdata\\roaming\\python\\python39\\site-packages (from aiohttp->openai) (4.0.2)\n",
      "Requirement already satisfied: multidict<7.0,>=4.5 in c:\\users\\joyce\\appdata\\roaming\\python\\python39\\site-packages (from aiohttp->openai) (6.0.4)\n",
      "Requirement already satisfied: attrs>=17.3.0 in c:\\programdata\\anaconda3\\lib\\site-packages (from aiohttp->openai) (21.4.0)\n",
      "Requirement already satisfied: yarl<2.0,>=1.0 in c:\\users\\joyce\\appdata\\roaming\\python\\python39\\site-packages (from aiohttp->openai) (1.8.2)\n",
      "Requirement already satisfied: aiosignal>=1.1.2 in c:\\users\\joyce\\appdata\\roaming\\python\\python39\\site-packages (from aiohttp->openai) (1.3.1)\n",
      "Requirement already satisfied: colorama in c:\\programdata\\anaconda3\\lib\\site-packages (from tqdm->openai) (0.4.5)\n"
     ]
    }
   ],
   "source": [
    "!pip3 install openai"
   ]
  },
  {
   "cell_type": "code",
   "execution_count": 4,
   "id": "9ba0fb56",
   "metadata": {},
   "outputs": [],
   "source": [
    "import openai\n",
    "import pandas as pd"
   ]
  },
  {
   "cell_type": "code",
   "execution_count": 5,
   "id": "32bea8e0",
   "metadata": {},
   "outputs": [],
   "source": [
    "with open('01.txt', 'r') as fh:\n",
    "    tmp = fh.read()\n",
    "    itemlist = tmp.split(',')"
   ]
  },
  {
   "cell_type": "code",
   "execution_count": 6,
   "id": "0e5dd1ad",
   "metadata": {},
   "outputs": [],
   "source": [
    "itemlist = str(itemlist)"
   ]
  },
  {
   "cell_type": "code",
   "execution_count": 7,
   "id": "85c9ee66",
   "metadata": {},
   "outputs": [],
   "source": [
    "keyfile = open(\"key.txt\", \"r\")\n",
    "key = keyfile.readline()\n",
    "openai.api_key = key"
   ]
  },
  {
   "cell_type": "code",
   "execution_count": 8,
   "id": "bfeecd99",
   "metadata": {},
   "outputs": [],
   "source": [
    "data = [itemlist[0:3200], itemlist[3201:6400], \n",
    "        itemlist[6401:9600], itemlist[9601:12800], itemlist[12801:16000]]"
   ]
  },
  {
   "cell_type": "code",
   "execution_count": 9,
   "id": "6316eab7",
   "metadata": {},
   "outputs": [
    {
     "data": {
      "text/plain": [
       "\"['\\\\nBlockchain in education management: present and future applications \\\\nPreeti Bhaskar \\\\nUniversity of Technology and Applied Sciences', ' Ibra', ' Oman and ICFAI Business School', ' ICFAI University', ' Dehradun', ' India \\\\n\\\\nChandan Kumar Tiwari \\\\nSymbiosis Centre for Management Studies', ' Noida', ' India and Symbiosis International (Deemed University)', ' Pune', ' India', ' and \\\\n\\\\nAmit Joshi \\\\nICFAI Business School', ' ICFAI University', ' Dehradun', ' India \\\\nAbstract \\\\nPurpose   This paper aims to provide a systematic literature review on blockchain technology in education to offer a detailed understanding of the present scenario in terms of bene.ts', ' barriers', ' present blockchain technology application and future areas where blockchain technology can be implemented in the other .elds of education. \\\\nDesign/methodology/approach   A bibliometric analysis is conducted on for data in the publications', ' journals', ' authors and citations were collected', ' and examined by applying bibliometric measures. The data was collected from SCOPUS database on the topic  Blockchain Technology in Education . The following research questions guided this systematic literature review (SLR: How blockchain technology has been de.ned in educational settings? How were the technology examined (i.e. the methodology)? What were the results of using this technology in an education system? \\\\nFindings   The study identi.es the bene.ts', ' barriers and present application of blockchain technology in education. The analysis shows that blockchain technology in education is still a young discipline', ' but has a lot of potential to bene.ts the educational sector at large. \\\\nPractical implications   This research provides a groundwork for education institutions', ' the policymakers and researchers to explore other areas where blockchain technology can be implemented', ' though this research has also suggested some prospective uses of blockchain technology in different functions of an education system', ' more application can be brought into the education system to exploit the potential of blockchain technology. \\\\nOriginality/value   The paper discusses the application of blockchain technology in education with the help of bibliometric analysis. This is one of the .rst known studies to review the blockchain technology by identifying its bene.ts', ' barriers', ' present blockchain technology application. Based on the analysis', ' future application areas are also identi.ed. \\\\nKeywords Systematic review', ' Education', ' Blockchain technology', ' Blockchain application \\\\nPaper type Literature review \\\\n1. Introduction \\\\nBlockchain was .rst used to a peer-to-peer ledger for record-keeping of the transactions of Bitcoin cryptocurrency. A blockchain transaction in the public ledger contains a veri.able record and once the information entered', ' it cannot be altered or erased in the future. The \\\\nBlockchain in education management \\\\nReceived 4 July 2020 Revised 19 September 2020 Accepted 10 October 2020 \\\\n\\\\nInteractive Technology and Smart Education Vol. 18 No. 1', ' 2021 pp. 1-17   Emerald Publishing Limited 1741-5659 DOI 10.1108/ITSE-07-2020-0102 \\\\n\\\\nBlockchain tech\""
      ]
     },
     "execution_count": 9,
     "metadata": {},
     "output_type": "execute_result"
    }
   ],
   "source": [
    "data[0]"
   ]
  },
  {
   "cell_type": "code",
   "execution_count": 10,
   "id": "af436d6e",
   "metadata": {},
   "outputs": [],
   "source": [
    "def chatgptfn(sub_list):\n",
    "    result = ''\n",
    "    response = openai.ChatCompletion.create(\n",
    "        model=\"gpt-3.5-turbo\",\n",
    "        messages=[\n",
    "            {\"role\": \"system\", \"content\": \"You are an assistant\"},\n",
    "            {\"role\": \"user\", \"content\": f\"{sub_list} :give me a summary\"}\n",
    "        ]\n",
    "    )\n",
    "    for choice in response.choices:\n",
    "        result += choice.message.content\n",
    "    return result"
   ]
  },
  {
   "cell_type": "code",
   "execution_count": 11,
   "id": "c3fe940d",
   "metadata": {},
   "outputs": [],
   "source": [
    "data[0] = chatgptfn(data[0])"
   ]
  },
  {
   "cell_type": "code",
   "execution_count": 12,
   "id": "c58ffdeb",
   "metadata": {},
   "outputs": [
    {
     "data": {
      "text/plain": [
       "'This paper is a systematic literature review on the use of blockchain technology in education. The authors conducted a bibliometric analysis to examine the benefits, barriers, and current applications of blockchain technology in education. The study finds that blockchain technology is still a young discipline but has a lot of potential to benefit the educational sector. The paper provides a groundwork for education institutions, policymakers, and researchers to explore other areas where blockchain technology can be implemented. Overall, the paper offers a detailed understanding of the present scenario and future areas where blockchain technology can be implemented in education.'"
      ]
     },
     "execution_count": 12,
     "metadata": {},
     "output_type": "execute_result"
    }
   ],
   "source": [
    "data[0]"
   ]
  },
  {
   "cell_type": "code",
   "execution_count": 13,
   "id": "a68d919c",
   "metadata": {},
   "outputs": [],
   "source": [
    "data[1] = chatgptfn(data[1])"
   ]
  },
  {
   "cell_type": "code",
   "execution_count": 14,
   "id": "781d0043",
   "metadata": {},
   "outputs": [],
   "source": [
    "data[2] = chatgptfn(data[2])\n",
    "data[3] = chatgptfn(data[3])"
   ]
  },
  {
   "cell_type": "code",
   "execution_count": 15,
   "id": "a2ccbf11",
   "metadata": {},
   "outputs": [],
   "source": [
    "for i in range(0,5):\n",
    "    data[i] = chatgptfn(data[i])"
   ]
  },
  {
   "cell_type": "code",
   "execution_count": 16,
   "id": "a6d6609b",
   "metadata": {},
   "outputs": [
    {
     "name": "stderr",
     "output_type": "stream",
     "text": [
      "C:\\ProgramData\\Anaconda3\\lib\\site-packages\\gensim\\matutils.py:22: DeprecationWarning: Please use `triu` from the `scipy.linalg` namespace, the `scipy.linalg.special_matrices` namespace is deprecated.\n",
      "  from scipy.linalg.special_matrices import triu\n"
     ]
    }
   ],
   "source": [
    "import gensim\n",
    "from gensim import corpora\n",
    "from pprint import pprint"
   ]
  },
  {
   "cell_type": "code",
   "execution_count": 17,
   "id": "f80dafe3",
   "metadata": {},
   "outputs": [],
   "source": [
    "# 創建詞袋\n",
    "texts = [[word for word in document.lower().split()] for document in data]\n",
    "dictionary = corpora.Dictionary(texts)\n",
    "corpus = [dictionary.doc2bow(text) for text in texts]"
   ]
  },
  {
   "cell_type": "code",
   "execution_count": 18,
   "id": "31469bd9",
   "metadata": {},
   "outputs": [],
   "source": [
    "# 訓練 LDA 模型\n",
    "lda_model = gensim.models.ldamodel.LdaModel(corpus=corpus, id2word=dictionary, \n",
    "                                            num_topics=3, random_state=100, update_every=1, \n",
    "                                            chunksize=100, passes=10, alpha='auto', per_word_topics=True)"
   ]
  },
  {
   "cell_type": "code",
   "execution_count": 19,
   "id": "edbc2023",
   "metadata": {},
   "outputs": [
    {
     "name": "stdout",
     "output_type": "stream",
     "text": [
      "Requirement already satisfied: pyLDAvis in c:\\programdata\\anaconda3\\lib\\site-packages (3.4.0)\n",
      "Requirement already satisfied: pandas>=1.3.4 in c:\\programdata\\anaconda3\\lib\\site-packages (from pyLDAvis) (1.4.4)\n",
      "Requirement already satisfied: scipy in c:\\programdata\\anaconda3\\lib\\site-packages (from pyLDAvis) (1.9.1)\n",
      "Requirement already satisfied: numexpr in c:\\programdata\\anaconda3\\lib\\site-packages (from pyLDAvis) (2.8.3)\n",
      "Requirement already satisfied: jinja2 in c:\\programdata\\anaconda3\\lib\\site-packages (from pyLDAvis) (2.11.3)\n",
      "Requirement already satisfied: gensim in c:\\programdata\\anaconda3\\lib\\site-packages (from pyLDAvis) (4.1.2)\n",
      "Requirement already satisfied: funcy in c:\\programdata\\anaconda3\\lib\\site-packages (from pyLDAvis) (2.0)\n",
      "Requirement already satisfied: joblib>=1.2.0 in c:\\programdata\\anaconda3\\lib\\site-packages (from pyLDAvis) (1.2.0)\n",
      "Requirement already satisfied: setuptools in c:\\programdata\\anaconda3\\lib\\site-packages (from pyLDAvis) (63.4.1)\n",
      "Requirement already satisfied: scikit-learn>=1.0.0 in c:\\programdata\\anaconda3\\lib\\site-packages (from pyLDAvis) (1.0.2)\n",
      "Requirement already satisfied: numpy>=1.22.0 in c:\\programdata\\anaconda3\\lib\\site-packages (from pyLDAvis) (1.24.2)\n",
      "Requirement already satisfied: python-dateutil>=2.8.1 in c:\\programdata\\anaconda3\\lib\\site-packages (from pandas>=1.3.4->pyLDAvis) (2.8.2)\n",
      "Requirement already satisfied: pytz>=2020.1 in c:\\programdata\\anaconda3\\lib\\site-packages (from pandas>=1.3.4->pyLDAvis) (2022.1)\n",
      "Requirement already satisfied: threadpoolctl>=2.0.0 in c:\\programdata\\anaconda3\\lib\\site-packages (from scikit-learn>=1.0.0->pyLDAvis) (2.2.0)\n",
      "Requirement already satisfied: smart-open>=1.8.1 in c:\\programdata\\anaconda3\\lib\\site-packages (from gensim->pyLDAvis) (5.2.1)\n",
      "Requirement already satisfied: MarkupSafe>=0.23 in c:\\programdata\\anaconda3\\lib\\site-packages (from jinja2->pyLDAvis) (2.0.1)\n",
      "Requirement already satisfied: packaging in c:\\programdata\\anaconda3\\lib\\site-packages (from numexpr->pyLDAvis) (21.3)\n",
      "Requirement already satisfied: six>=1.5 in c:\\programdata\\anaconda3\\lib\\site-packages (from python-dateutil>=2.8.1->pandas>=1.3.4->pyLDAvis) (1.16.0)\n",
      "Requirement already satisfied: pyparsing!=3.0.5,>=2.0.2 in c:\\programdata\\anaconda3\\lib\\site-packages (from packaging->numexpr->pyLDAvis) (3.0.9)\n"
     ]
    }
   ],
   "source": [
    "!pip install pyLDAvis"
   ]
  },
  {
   "cell_type": "code",
   "execution_count": 20,
   "id": "d788ece8",
   "metadata": {},
   "outputs": [
    {
     "name": "stderr",
     "output_type": "stream",
     "text": [
      "C:\\ProgramData\\Anaconda3\\lib\\site-packages\\pyLDAvis\\_prepare.py:243: FutureWarning: In a future version of pandas all arguments of DataFrame.drop except for the argument 'labels' will be keyword-only.\n",
      "  default_term_info = default_term_info.sort_values(\n"
     ]
    },
    {
     "data": {
      "text/html": [
       "\n",
       "<link rel=\"stylesheet\" type=\"text/css\" href=\"https://cdn.jsdelivr.net/gh/bmabey/pyLDAvis@3.4.0/pyLDAvis/js/ldavis.v1.0.0.css\">\n",
       "\n",
       "\n",
       "<div id=\"ldavis_el1190419928896059204087251459\" style=\"background-color:white;\"></div>\n",
       "<script type=\"text/javascript\">\n",
       "\n",
       "var ldavis_el1190419928896059204087251459_data = {\"mdsDat\": {\"x\": [-0.05247948743337057, -0.03121778655766056, 0.08369727399103108], \"y\": [0.044924573640015716, -0.053236563749424336, 0.008311990109408616], \"topics\": [1, 2, 3], \"cluster\": [1, 1, 1], \"Freq\": [52.78237244581809, 25.466335356739368, 21.751292197442538]}, \"tinfo\": {\"Term\": [\"its\", \"by\", \"capabilities\", \"review\", \"be\", \"a\", \"has\", \"it\", \"systematic\", \"education.\", \"is\", \"on\", \"to\", \"verification\", \"trusted\", \"cybersecurity\", \"four\", \"transactions.\", \"include\", \"accepted\", \"strong\", \"sectors.\", \"system\", \"stages,\", \"focusing\", \"eliminates\", \"2025,\", \"decentralized\", \"application\", \"different\", \"areas\", \"as\", \"are\", \"such\", \"current\", \"still\", \"overall,\", \"provides\", \"education\", \"research.\", \"review-based,\", \"management,\", \"learning,\", \"suggests\", \"scalability,\", \"impact,\", \"social\", \"most\", \"including\", \"administration,\", \"adoption.\", \"impact\", \"address\", \"data\", \"school\", \"online\", \"there\", \"sciences.\", \"area\", \"challenges\", \"education,\", \"the\", \"of\", \"paper\", \"and\", \"in\", \"technology\", \"blockchain\", \"potential\", \"but\", \"for\", \"research\", \"literature\", \"explore\", \"to\", \"is\", \"a\", \"has\", \"use\", \"that\", \"review\", \"its\", \"relative\", \"predict\", \"revealed\", \"rapidly\", \"explains\", \"difficult\", \"maturity,\", \"newness\", \"field\", \"passage\", \"conducted\", \"various\", \"due\", \"lack\", \"industries.\", \"how\", \"was\", \"developing\", \"however,\", \"approach\", \"policy-makers,\", \"benefits.\", \"inform\", \"their\", \"aiming\", \"findings\", \"authors\", \"followed\", \"identify\", \"gaps,\", \"systematic\", \"education.\", \"review\", \"a\", \"to\", \"its\", \"technology\", \"on\", \"blockchain\", \"the\", \"in\", \"of\", \"is\", \"and\", \"potential\", \"applications\", \"researchers\", \"institutions,\", \"paper\", \"it\", \"that\", \"explore\", \"literature\", \"use\", \"education,\", \"with\", \"future.\", \"research\", \"studies\", \"by\", \"capabilities\", \"verification\", \"cybersecurity\", \"trusted\", \"four\", \"transactions.\", \"include\", \"accepted\", \"strong\", \"sectors.\", \"system\", \"stages,\", \"focusing\", \"eliminates\", \"decentralized\", \"2025,\", \"different\", \"application\", \"utilized\", \"grading\", \"early\", \"expected\", \"immutability.\", \"allows\", \"gdp\", \"worldwide.\", \"each\", \"reliable\", \"create\", \"be\", \"its\", \"it\", \"and\", \"has\", \"is\", \"that\", \"a\", \"to\", \"blockchain\", \"in\", \"the\", \"of\", \"technology\", \"education\", \"for\", \"use\", \"but\", \"security,\"], \"Freq\": [5.0, 1.0, 1.0, 3.0, 2.0, 7.0, 3.0, 3.0, 2.0, 2.0, 7.0, 3.0, 8.0, 1.0, 1.0, 1.0, 1.0, 1.0, 1.0, 1.0, 1.0, 1.0, 1.0, 1.0, 1.0, 1.0, 1.0, 1.0, 1.0, 1.0, 3.3425220228060577, 1.8043914518916178, 1.8037926718050623, 1.803734109592945, 1.7988386051774552, 1.7970302188931444, 1.7970029763451025, 1.7825503413001909, 3.343103938458111, 1.0314149148940845, 1.031408243249666, 1.0314015716052476, 1.0312585018971632, 1.0311550914086773, 1.0311292387865558, 1.0311064440014595, 1.0311098724853969, 1.0310961585496479, 1.0310800354089698, 1.0310741977201037, 1.0310653021942124, 1.0310003463228608, 1.0309805167130615, 1.0309649495427518, 1.030949567695898, 1.0309407648317348, 1.030944007992216, 1.030927236219442, 1.0309236224120486, 1.030891932101061, 2.576846674007232, 10.943244817086747, 7.91618260508095, 2.495625333563263, 8.704960005266289, 6.402454685567707, 5.597610483035105, 6.3456812154482165, 2.5459100735154485, 1.8052702557202918, 1.7937088519134956, 1.8053536512755224, 1.782591668430894, 1.782127433173444, 4.063447316668166, 3.2926922519385196, 3.0938948539971975, 1.8000007685704569, 1.7834536078250658, 1.7799969547224872, 1.7583470979377225, 1.7712239276356887, 0.8018555285056339, 0.80183165483494, 0.80179937620153, 0.8017925806997594, 0.801785069882013, 0.8017783637947394, 0.801742955653935, 0.8017353554216917, 0.8017242680240662, 0.8017139853569133, 0.8017189031542472, 0.8017136276989254, 0.8017025403012997, 0.8016917211471651, 0.8016721393723263, 0.8016445997072562, 0.8016378042054857, 0.801645851510214, 0.801571011576241, 0.8014948304248134, 0.8014803452763025, 0.8014664860292705, 0.8014672013452464, 0.8014619258899245, 0.8014317932044419, 0.8013908413648247, 0.8013691136420584, 0.8013499789397045, 0.8013126930944635, 0.8012944525370794, 1.4698259917135998, 1.4689479413532485, 2.0422242497772056, 2.812852033455792, 2.6616544438382075, 2.0421178465257985, 2.6693330031809293, 1.405959988369632, 2.689276549074505, 3.330067687635222, 2.6462948215468485, 2.670543675470049, 2.0590127157303177, 2.6725655160757786, 1.4292529119056112, 0.8520872516919837, 0.8463322664228095, 0.8412761448620371, 0.8672259307613033, 0.8497676608113082, 0.8264269005194443, 0.8202338736295612, 0.8195485115102036, 0.8222183389755527, 0.8042152664954537, 0.8026016924829386, 0.8025827366095786, 0.8023661746978912, 0.8021447844033668, 1.3369873967219186, 1.3365311583963713, 0.7649757321672204, 0.7648191723132913, 0.7648635436670147, 0.7647374557066065, 0.7647222579451763, 0.7647280621153707, 0.764650927748313, 0.7646105276689333, 0.764553020561612, 0.7645356844216892, 0.7645380519121632, 0.7645386628774469, 0.7645169736098781, 0.7644656525260536, 0.7644821485887114, 0.7644265507479016, 0.7644530513670789, 0.7643836304367269, 0.7644477054208471, 0.7644057779282584, 0.7643611010918931, 0.7643236794682712, 0.7642863342153096, 0.7643224575377039, 0.7642984007796612, 0.764319097228644, 0.7642179824742039, 0.764250516375557, 1.338596526537667, 1.9098397495068853, 1.3372352958857494, 3.0607026822251475, 1.3364886963091591, 1.9141818797776113, 1.3397272705363368, 1.3408763434935154, 1.3405978960655032, 1.3449058122803461, 1.3438340264315463, 1.3443368508599698, 0.7714502076484597, 0.768879112993643, 0.7670947125121543, 0.7665542373481272, 0.7657410425556217, 0.7650614200482488, 0.7649748920899554], \"Total\": [5.0, 1.0, 1.0, 3.0, 2.0, 7.0, 3.0, 3.0, 2.0, 2.0, 7.0, 3.0, 8.0, 1.0, 1.0, 1.0, 1.0, 1.0, 1.0, 1.0, 1.0, 1.0, 1.0, 1.0, 1.0, 1.0, 1.0, 1.0, 1.0, 1.0, 3.7453839710684607, 2.1989077803614223, 2.198763980979969, 2.198754645586193, 2.197627263730384, 2.197248689415034, 2.197232618817667, 2.194018120092234, 4.321137419064348, 1.4247431348439514, 1.4247394270748714, 1.4247410821962472, 1.4247048320292728, 1.4246811996490945, 1.4246734062726008, 1.424669466321252, 1.4246743294564859, 1.4246693880603478, 1.4246615943923553, 1.4246620862758328, 1.4246637852509332, 1.4246450102120383, 1.4246363037035283, 1.4246319672951844, 1.424635304011892, 1.4246237018635035, 1.4246381785837707, 1.424627463649606, 1.4246247980895794, 1.4246180235876074, 3.5745761059824526, 15.617649355581937, 11.358176488199458, 3.556444530715898, 14.438228203567213, 10.392583533546102, 9.035822599209677, 10.379863576803068, 4.169295123192548, 2.774674783492836, 2.772025454287396, 2.800745734728238, 2.7956434626017495, 2.795554104543585, 8.065699656571876, 7.265886847446449, 7.2476232309465045, 3.3491239565553155, 3.37141298935624, 3.946151125778268, 3.993558765656884, 5.723181523668373, 1.2522530049822225, 1.2522400092058144, 1.2522462110229324, 1.2522619470223637, 1.2522534728661614, 1.2522599062283826, 1.252266809498439, 1.252257777300288, 1.252270396401664, 1.2522642049761432, 1.2522735494610855, 1.252268175783078, 1.2522764865492315, 1.25227705674261, 1.2522940081663667, 1.2522758123843805, 1.2522734625383483, 1.2523025190649075, 1.2523205156453001, 1.2523459323247186, 1.2523545709268982, 1.2523602459261292, 1.25236896261524, 1.2523617327171892, 1.2523580875462959, 1.2523727830215066, 1.252380593198123, 1.2523886350012656, 1.2523975370300566, 1.2524112415109256, 2.6090401703974115, 2.609266463098737, 3.993558765656884, 7.2476232309465045, 8.065699656571876, 5.723181523668373, 9.035822599209677, 3.204163221051476, 10.379863576803068, 15.617649355581937, 10.392583533546102, 11.358176488199458, 7.265886847446449, 14.438228203567213, 4.169295123192548, 2.0120791708369876, 2.013635732550691, 2.0150257067138506, 3.556444530715898, 3.1657709988679157, 3.946151125778268, 2.795554104543585, 2.7956434626017495, 3.37141298935624, 3.5745761059824526, 2.026335405299779, 2.026302255215861, 2.800745734728238, 2.02637857563664, 1.8024392736086698, 1.802564665861168, 1.2263655862308336, 1.226387590180304, 1.2265054370964912, 1.2263835499200133, 1.2263968882633212, 1.2264632080238849, 1.2264662115153893, 1.226475926642565, 1.2264217178941172, 1.2264436466757327, 1.2264569224526507, 1.2265278495819014, 1.226514871319349, 1.2264989653241365, 1.2265286247318044, 1.226446029636229, 1.2265203565594376, 1.2264158107168472, 1.226519275138883, 1.2265387445963156, 1.2264939659093712, 1.2264945753381462, 1.226450058691047, 1.226532033027253, 1.2265364362328697, 1.2265895897116708, 1.2264817076006176, 1.2266321694538043, 2.574122350552643, 5.723181523668373, 3.1657709988679157, 14.438228203567213, 3.3491239565553155, 7.265886847446449, 3.946151125778268, 7.2476232309465045, 8.065699656571876, 10.379863576803068, 10.392583533546102, 15.617649355581937, 11.358176488199458, 9.035822599209677, 4.321137419064348, 2.772025454287396, 3.37141298935624, 2.774674783492836, 2.00079837174418], \"Category\": [\"Default\", \"Default\", \"Default\", \"Default\", \"Default\", \"Default\", \"Default\", \"Default\", \"Default\", \"Default\", \"Default\", \"Default\", \"Default\", \"Default\", \"Default\", \"Default\", \"Default\", \"Default\", \"Default\", \"Default\", \"Default\", \"Default\", \"Default\", \"Default\", \"Default\", \"Default\", \"Default\", \"Default\", \"Default\", \"Default\", \"Topic1\", \"Topic1\", \"Topic1\", \"Topic1\", \"Topic1\", \"Topic1\", \"Topic1\", \"Topic1\", \"Topic1\", \"Topic1\", \"Topic1\", \"Topic1\", \"Topic1\", \"Topic1\", \"Topic1\", \"Topic1\", \"Topic1\", \"Topic1\", \"Topic1\", \"Topic1\", \"Topic1\", \"Topic1\", \"Topic1\", \"Topic1\", \"Topic1\", \"Topic1\", \"Topic1\", \"Topic1\", \"Topic1\", \"Topic1\", \"Topic1\", \"Topic1\", \"Topic1\", \"Topic1\", \"Topic1\", \"Topic1\", \"Topic1\", \"Topic1\", \"Topic1\", \"Topic1\", \"Topic1\", \"Topic1\", \"Topic1\", \"Topic1\", \"Topic1\", \"Topic1\", \"Topic1\", \"Topic1\", \"Topic1\", \"Topic1\", \"Topic1\", \"Topic1\", \"Topic2\", \"Topic2\", \"Topic2\", \"Topic2\", \"Topic2\", \"Topic2\", \"Topic2\", \"Topic2\", \"Topic2\", \"Topic2\", \"Topic2\", \"Topic2\", \"Topic2\", \"Topic2\", \"Topic2\", \"Topic2\", \"Topic2\", \"Topic2\", \"Topic2\", \"Topic2\", \"Topic2\", \"Topic2\", \"Topic2\", \"Topic2\", \"Topic2\", \"Topic2\", \"Topic2\", \"Topic2\", \"Topic2\", \"Topic2\", \"Topic2\", \"Topic2\", \"Topic2\", \"Topic2\", \"Topic2\", \"Topic2\", \"Topic2\", \"Topic2\", \"Topic2\", \"Topic2\", \"Topic2\", \"Topic2\", \"Topic2\", \"Topic2\", \"Topic2\", \"Topic2\", \"Topic2\", \"Topic2\", \"Topic2\", \"Topic2\", \"Topic2\", \"Topic2\", \"Topic2\", \"Topic2\", \"Topic2\", \"Topic2\", \"Topic2\", \"Topic2\", \"Topic2\", \"Topic3\", \"Topic3\", \"Topic3\", \"Topic3\", \"Topic3\", \"Topic3\", \"Topic3\", \"Topic3\", \"Topic3\", \"Topic3\", \"Topic3\", \"Topic3\", \"Topic3\", \"Topic3\", \"Topic3\", \"Topic3\", \"Topic3\", \"Topic3\", \"Topic3\", \"Topic3\", \"Topic3\", \"Topic3\", \"Topic3\", \"Topic3\", \"Topic3\", \"Topic3\", \"Topic3\", \"Topic3\", \"Topic3\", \"Topic3\", \"Topic3\", \"Topic3\", \"Topic3\", \"Topic3\", \"Topic3\", \"Topic3\", \"Topic3\", \"Topic3\", \"Topic3\", \"Topic3\", \"Topic3\", \"Topic3\", \"Topic3\", \"Topic3\", \"Topic3\", \"Topic3\", \"Topic3\", \"Topic3\", \"Topic3\"], \"logprob\": [30.0, 29.0, 28.0, 27.0, 26.0, 25.0, 24.0, 23.0, 22.0, 21.0, 20.0, 19.0, 18.0, 17.0, 16.0, 15.0, 14.0, 13.0, 12.0, 11.0, 10.0, 9.0, 8.0, 7.0, 6.0, 5.0, 4.0, 3.0, 2.0, 1.0, -4.0865, -4.703, -4.7034, -4.7034, -4.7061, -4.7071, -4.7071, -4.7152, -4.0864, -5.2623, -5.2623, -5.2623, -5.2625, -5.2626, -5.2626, -5.2626, -5.2626, -5.2626, -5.2626, -5.2627, -5.2627, -5.2627, -5.2627, -5.2628, -5.2628, -5.2628, -5.2628, -5.2628, -5.2628, -5.2628, -4.3467, -2.9005, -3.2243, -4.3787, -3.1294, -3.4366, -3.5709, -3.4455, -4.3588, -4.7025, -4.709, -4.7025, -4.7152, -4.7154, -3.8912, -4.1015, -4.1638, -4.7055, -4.7147, -4.7166, -4.7289, -4.7216, -4.7853, -4.7853, -4.7853, -4.7853, -4.7853, -4.7854, -4.7854, -4.7854, -4.7854, -4.7854, -4.7854, -4.7854, -4.7855, -4.7855, -4.7855, -4.7855, -4.7855, -4.7855, -4.7856, -4.7857, -4.7857, -4.7857, -4.7857, -4.7858, -4.7858, -4.7858, -4.7859, -4.7859, -4.7859, -4.786, -4.1793, -4.1799, -3.8504, -3.5302, -3.5855, -3.8504, -3.5826, -4.2237, -3.5752, -3.3614, -3.5913, -3.5822, -3.8422, -3.5814, -4.2073, -4.7245, -4.7313, -4.7373, -4.7069, -4.7272, -4.7551, -4.7626, -4.7634, -4.7602, -4.7823, -4.7843, -4.7844, -4.7846, -4.7849, -4.1163, -4.1167, -4.6747, -4.6749, -4.6748, -4.675, -4.675, -4.675, -4.6751, -4.6751, -4.6752, -4.6752, -4.6752, -4.6752, -4.6753, -4.6753, -4.6753, -4.6754, -4.6753, -4.6754, -4.6753, -4.6754, -4.6755, -4.6755, -4.6756, -4.6755, -4.6755, -4.6755, -4.6757, -4.6756, -4.1151, -3.7597, -4.1161, -3.2881, -4.1167, -3.7575, -4.1143, -4.1134, -4.1136, -4.1104, -4.1112, -4.1108, -4.6662, -4.6696, -4.6719, -4.6726, -4.6737, -4.6745, -4.6747], \"loglift\": [30.0, 29.0, 28.0, 27.0, 26.0, 25.0, 24.0, 23.0, 22.0, 21.0, 20.0, 19.0, 18.0, 17.0, 16.0, 15.0, 14.0, 13.0, 12.0, 11.0, 10.0, 9.0, 8.0, 7.0, 6.0, 5.0, 4.0, 3.0, 2.0, 1.0, 0.5252, 0.4413, 0.441, 0.441, 0.4388, 0.4379, 0.4379, 0.4313, 0.3824, 0.3159, 0.3159, 0.3159, 0.3158, 0.3157, 0.3157, 0.3157, 0.3157, 0.3157, 0.3157, 0.3157, 0.3156, 0.3156, 0.3156, 0.3156, 0.3156, 0.3156, 0.3155, 0.3155, 0.3155, 0.3155, 0.3117, 0.2833, 0.278, 0.2848, 0.133, 0.1546, 0.1601, 0.1469, 0.1457, 0.2092, 0.2037, 0.1999, 0.189, 0.1888, -0.0466, -0.1525, -0.2122, 0.0181, 0.0022, -0.1571, -0.1813, -0.5339, 0.922, 0.922, 0.922, 0.922, 0.922, 0.9219, 0.9219, 0.9219, 0.9219, 0.9219, 0.9219, 0.9219, 0.9218, 0.9218, 0.9218, 0.9218, 0.9218, 0.9217, 0.9216, 0.9215, 0.9215, 0.9215, 0.9215, 0.9215, 0.9214, 0.9214, 0.9213, 0.9213, 0.9212, 0.9212, 0.794, 0.7933, 0.6972, 0.4213, 0.2591, 0.3373, 0.1484, 0.5441, 0.0172, -0.1776, -0.0001, -0.0798, 0.1068, -0.319, 0.2972, 0.5086, 0.501, 0.4943, -0.0434, 0.0526, -0.1956, 0.1416, 0.1407, -0.0433, -0.1239, 0.4417, 0.4417, 0.1177, 0.4411, 1.2268, 1.2264, 1.0535, 1.0533, 1.0533, 1.0532, 1.0532, 1.0531, 1.053, 1.053, 1.0529, 1.0529, 1.0529, 1.0528, 1.0528, 1.0528, 1.0528, 1.0527, 1.0527, 1.0527, 1.0527, 1.0526, 1.0526, 1.0526, 1.0526, 1.0525, 1.0525, 1.0525, 1.0524, 1.0524, 0.8716, 0.428, 0.6637, -0.0257, 0.6068, 0.1916, 0.4452, -0.1619, -0.269, -0.518, -0.5201, -0.927, -1.1639, -0.9385, -0.2032, 0.2401, 0.0433, 0.2372, 0.564]}, \"token.table\": {\"Topic\": [3, 1, 2, 3, 3, 1, 1, 1, 2, 3, 1, 2, 3, 3, 1, 2, 2, 1, 1, 1, 1, 2, 1, 3, 2, 1, 2, 3, 1, 3, 3, 3, 1, 2, 3, 1, 3, 1, 3, 2, 3, 2, 2, 3, 3, 1, 3, 1, 2, 1, 2, 3, 3, 2, 1, 2, 2, 2, 3, 2, 1, 3, 3, 1, 2, 2, 3, 3, 1, 3, 2, 2, 2, 3, 1, 1, 1, 2, 3, 3, 1, 2, 2, 1, 2, 1, 2, 3, 1, 2, 3, 1, 2, 3, 2, 1, 1, 2, 1, 2, 1, 2, 1, 2, 3, 1, 2, 3, 1, 1, 1, 2, 2, 2, 1, 2, 2, 1, 2, 2, 3, 1, 2, 1, 1, 2, 2, 1, 2, 1, 1, 1, 1, 3, 1, 3, 1, 3, 1, 3, 1, 2, 1, 1, 3, 1, 2, 1, 2, 3, 1, 2, 3, 1, 2, 3, 2, 1, 1, 2, 3, 3, 3, 1, 2, 3, 3, 2, 3, 2, 1, 2, 3], \"Freq\": [0.8153091414549435, 0.4139288018160699, 0.4139288018160699, 0.1379762672720233, 0.8153506314408991, 0.7019335372827221, 0.701920834163609, 0.7019199970917103, 0.7984936656250348, 0.8153613699258735, 0.6233451828789072, 0.2077817276263024, 0.2077817276263024, 0.8153146375859108, 0.4969983360962971, 0.4969983360962971, 0.798501415773922, 0.9096019478673734, 0.7019392062675022, 0.8009859665053722, 0.9095424637004427, 0.7984793164563219, 0.38848192269699544, 0.38848192269699544, 0.7984922894614025, 0.5780422792269455, 0.28902113961347276, 0.09634037987115758, 0.7208051955848842, 0.3604025977924421, 0.554803712192698, 0.5547651182445952, 0.7019425442068364, 0.7985475700819114, 0.8152403180859676, 0.9100724372180751, 0.8154029019920036, 0.7019356738839763, 0.8153288573999915, 0.798529097223807, 0.8153640485073818, 0.7985562701690648, 0.7985456971691581, 0.8152686182792941, 0.8153024145430684, 0.6942616512875417, 0.23142055042918055, 0.8392603517321018, 0.2797534505773673, 0.38324947418839345, 0.38324947418839345, 0.8153182838495148, 0.8153321808302256, 0.798560372694513, 0.715421674990808, 0.357710837495404, 0.7985495807242986, 0.7984842960155797, 0.815309656719886, 0.798474189283097, 0.7214940962777485, 0.36074704813887426, 0.8154055882967621, 0.4935097897788553, 0.4935097897788553, 0.7984597765136527, 0.815306875868427, 0.8153153564478361, 0.5971710889008318, 0.2985855444504159, 0.7985461270676164, 0.7985176218922809, 0.7984685137367854, 0.8153317757025534, 0.7019292475191165, 0.701917198086779, 0.5773347869307636, 0.2886673934653818, 0.09622246448846059, 0.8153526281568859, 0.7019210765111686, 0.7985345242242431, 0.7984867318268297, 0.49627158436148316, 0.49627158436148316, 0.41288834563317367, 0.27525889708878243, 0.27525889708878243, 0.31587881762692294, 0.31587881762692294, 0.31587881762692294, 0.34945597858969624, 0.34945597858969624, 0.34945597858969624, 0.7985453335711297, 0.7018997742680875, 0.7153988077359162, 0.3576994038679581, 0.7018819155958456, 0.7985518680324383, 0.7019172366449702, 0.7985576277720355, 0.7043384127999398, 0.2641269047999774, 0.08804230159999248, 0.3120939637000891, 0.3120939637000891, 0.3120939637000891, 0.7019397463989493, 0.9102358953128058, 0.5623593965058716, 0.2811796982529358, 0.7985535289009167, 0.7984959078001972, 0.7195460890527737, 0.23984869635092457, 0.7985689585451051, 0.9115694996702771, 0.7985549687729522, 0.7985606710635894, 0.8153403298254756, 0.7140955264880781, 0.35704776324403903, 0.7018809043845841, 0.4966141511271707, 0.4966141511271707, 0.798565003589128, 0.5008064529309683, 0.5008064529309683, 0.7018827309728469, 0.7019152569263705, 0.7019340298418244, 0.7019378928988238, 0.8153802117244753, 0.4998004867068429, 0.4998004867068429, 0.701914802087787, 0.8153568068254812, 0.9102292378804209, 0.8153441729080366, 0.49349120249449135, 0.49349120249449135, 0.909605809822767, 0.7019114172674593, 0.8153656327467579, 0.38328271497930944, 0.38328271497930944, 0.6640236607262291, 0.33201183036311455, 0.11067061012103818, 0.5068229614763058, 0.2534114807381529, 0.2534114807381529, 0.704331346513966, 0.19209036723108164, 0.06403012241036055, 0.7984913414995106, 0.7019326135103985, 0.49592721900335424, 0.3719454142525157, 0.12398180475083856, 0.8153967199118405, 0.8153245552398871, 0.593223080742147, 0.2966115403710735, 0.2966115403710735, 0.8153841391000122, 0.7985509967740514, 0.8154175322820696, 0.7985476255106516, 0.49350171614459776, 0.49350171614459776, 0.815303948956752], \"Term\": [\"2025,\", \"a\", \"a\", \"a\", \"accepted\", \"address\", \"administration,\", \"adoption.\", \"aiming\", \"allows\", \"and\", \"and\", \"and\", \"application\", \"applications\", \"applications\", \"approach\", \"are\", \"area\", \"areas\", \"as\", \"authors\", \"be\", \"be\", \"benefits.\", \"blockchain\", \"blockchain\", \"blockchain\", \"but\", \"but\", \"by\", \"capabilities\", \"challenges\", \"conducted\", \"create\", \"current\", \"cybersecurity\", \"data\", \"decentralized\", \"developing\", \"different\", \"difficult\", \"due\", \"each\", \"early\", \"education\", \"education\", \"education,\", \"education,\", \"education.\", \"education.\", \"eliminates\", \"expected\", \"explains\", \"explore\", \"explore\", \"field\", \"findings\", \"focusing\", \"followed\", \"for\", \"for\", \"four\", \"future.\", \"future.\", \"gaps,\", \"gdp\", \"grading\", \"has\", \"has\", \"how\", \"however,\", \"identify\", \"immutability.\", \"impact\", \"impact,\", \"in\", \"in\", \"in\", \"include\", \"including\", \"industries.\", \"inform\", \"institutions,\", \"institutions,\", \"is\", \"is\", \"is\", \"it\", \"it\", \"it\", \"its\", \"its\", \"its\", \"lack\", \"learning,\", \"literature\", \"literature\", \"management,\", \"maturity,\", \"most\", \"newness\", \"of\", \"of\", \"of\", \"on\", \"on\", \"on\", \"online\", \"overall,\", \"paper\", \"paper\", \"passage\", \"policy-makers,\", \"potential\", \"potential\", \"predict\", \"provides\", \"rapidly\", \"relative\", \"reliable\", \"research\", \"research\", \"research.\", \"researchers\", \"researchers\", \"revealed\", \"review\", \"review\", \"review-based,\", \"scalability,\", \"school\", \"sciences.\", \"sectors.\", \"security,\", \"security,\", \"social\", \"stages,\", \"still\", \"strong\", \"studies\", \"studies\", \"such\", \"suggests\", \"system\", \"systematic\", \"systematic\", \"technology\", \"technology\", \"technology\", \"that\", \"that\", \"that\", \"the\", \"the\", \"the\", \"their\", \"there\", \"to\", \"to\", \"to\", \"transactions.\", \"trusted\", \"use\", \"use\", \"use\", \"utilized\", \"various\", \"verification\", \"was\", \"with\", \"with\", \"worldwide.\"]}, \"R\": 30, \"lambda.step\": 0.01, \"plot.opts\": {\"xlab\": \"PC1\", \"ylab\": \"PC2\"}, \"topic.order\": [1, 3, 2]};\n",
       "\n",
       "function LDAvis_load_lib(url, callback){\n",
       "  var s = document.createElement('script');\n",
       "  s.src = url;\n",
       "  s.async = true;\n",
       "  s.onreadystatechange = s.onload = callback;\n",
       "  s.onerror = function(){console.warn(\"failed to load library \" + url);};\n",
       "  document.getElementsByTagName(\"head\")[0].appendChild(s);\n",
       "}\n",
       "\n",
       "if(typeof(LDAvis) !== \"undefined\"){\n",
       "   // already loaded: just create the visualization\n",
       "   !function(LDAvis){\n",
       "       new LDAvis(\"#\" + \"ldavis_el1190419928896059204087251459\", ldavis_el1190419928896059204087251459_data);\n",
       "   }(LDAvis);\n",
       "}else if(typeof define === \"function\" && define.amd){\n",
       "   // require.js is available: use it to load d3/LDAvis\n",
       "   require.config({paths: {d3: \"https://d3js.org/d3.v5\"}});\n",
       "   require([\"d3\"], function(d3){\n",
       "      window.d3 = d3;\n",
       "      LDAvis_load_lib(\"https://cdn.jsdelivr.net/gh/bmabey/pyLDAvis@3.4.0/pyLDAvis/js/ldavis.v3.0.0.js\", function(){\n",
       "        new LDAvis(\"#\" + \"ldavis_el1190419928896059204087251459\", ldavis_el1190419928896059204087251459_data);\n",
       "      });\n",
       "    });\n",
       "}else{\n",
       "    // require.js not available: dynamically load d3 & LDAvis\n",
       "    LDAvis_load_lib(\"https://d3js.org/d3.v5.js\", function(){\n",
       "         LDAvis_load_lib(\"https://cdn.jsdelivr.net/gh/bmabey/pyLDAvis@3.4.0/pyLDAvis/js/ldavis.v3.0.0.js\", function(){\n",
       "                 new LDAvis(\"#\" + \"ldavis_el1190419928896059204087251459\", ldavis_el1190419928896059204087251459_data);\n",
       "            })\n",
       "         });\n",
       "}\n",
       "</script>"
      ],
      "text/plain": [
       "<IPython.core.display.HTML object>"
      ]
     },
     "execution_count": 20,
     "metadata": {},
     "output_type": "execute_result"
    }
   ],
   "source": [
    "# 輸出主題模型分析結果\n",
    "import pyLDAvis.gensim\n",
    "pyLDAvis.enable_notebook()\n",
    "vis = pyLDAvis.gensim.prepare(lda_model, corpus, dictionary)\n",
    "pyLDAvis.display(vis)"
   ]
  },
  {
   "cell_type": "code",
   "execution_count": null,
   "id": "dabcffc7",
   "metadata": {},
   "outputs": [],
   "source": []
  }
 ],
 "metadata": {
  "kernelspec": {
   "display_name": "Python 3 (ipykernel)",
   "language": "python",
   "name": "python3"
  },
  "language_info": {
   "codemirror_mode": {
    "name": "ipython",
    "version": 3
   },
   "file_extension": ".py",
   "mimetype": "text/x-python",
   "name": "python",
   "nbconvert_exporter": "python",
   "pygments_lexer": "ipython3",
   "version": "3.9.13"
  }
 },
 "nbformat": 4,
 "nbformat_minor": 5
}
