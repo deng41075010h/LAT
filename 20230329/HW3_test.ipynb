{
 "cells": [
  {
   "cell_type": "code",
   "execution_count": 1,
   "id": "df3eb718",
   "metadata": {},
   "outputs": [
    {
     "name": "stdout",
     "output_type": "stream",
     "text": [
      "Requirement already satisfied: openai in c:\\users\\joyce\\appdata\\roaming\\python\\python39\\site-packages (0.27.2)\n",
      "Requirement already satisfied: tqdm in c:\\programdata\\anaconda3\\lib\\site-packages (from openai) (4.64.1)\n",
      "Requirement already satisfied: aiohttp in c:\\users\\joyce\\appdata\\roaming\\python\\python39\\site-packages (from openai) (3.8.4)\n",
      "Requirement already satisfied: requests>=2.20 in c:\\programdata\\anaconda3\\lib\\site-packages (from openai) (2.28.1)\n",
      "Requirement already satisfied: idna<4,>=2.5 in c:\\programdata\\anaconda3\\lib\\site-packages (from requests>=2.20->openai) (3.3)\n",
      "Requirement already satisfied: certifi>=2017.4.17 in c:\\programdata\\anaconda3\\lib\\site-packages (from requests>=2.20->openai) (2022.9.14)\n",
      "Requirement already satisfied: charset-normalizer<3,>=2 in c:\\programdata\\anaconda3\\lib\\site-packages (from requests>=2.20->openai) (2.0.4)\n",
      "Requirement already satisfied: urllib3<1.27,>=1.21.1 in c:\\programdata\\anaconda3\\lib\\site-packages (from requests>=2.20->openai) (1.26.11)\n",
      "Requirement already satisfied: multidict<7.0,>=4.5 in c:\\users\\joyce\\appdata\\roaming\\python\\python39\\site-packages (from aiohttp->openai) (6.0.4)\n",
      "Requirement already satisfied: async-timeout<5.0,>=4.0.0a3 in c:\\users\\joyce\\appdata\\roaming\\python\\python39\\site-packages (from aiohttp->openai) (4.0.2)\n",
      "Requirement already satisfied: aiosignal>=1.1.2 in c:\\users\\joyce\\appdata\\roaming\\python\\python39\\site-packages (from aiohttp->openai) (1.3.1)\n",
      "Requirement already satisfied: frozenlist>=1.1.1 in c:\\users\\joyce\\appdata\\roaming\\python\\python39\\site-packages (from aiohttp->openai) (1.3.3)\n",
      "Requirement already satisfied: attrs>=17.3.0 in c:\\programdata\\anaconda3\\lib\\site-packages (from aiohttp->openai) (21.4.0)\n",
      "Requirement already satisfied: yarl<2.0,>=1.0 in c:\\users\\joyce\\appdata\\roaming\\python\\python39\\site-packages (from aiohttp->openai) (1.8.2)\n",
      "Requirement already satisfied: colorama in c:\\programdata\\anaconda3\\lib\\site-packages (from tqdm->openai) (0.4.5)\n"
     ]
    }
   ],
   "source": [
    "!pip3 install openai"
   ]
  },
  {
   "cell_type": "code",
   "execution_count": 1,
   "id": "9ba0fb56",
   "metadata": {},
   "outputs": [],
   "source": [
    "import openai\n",
    "import pandas as pd"
   ]
  },
  {
   "cell_type": "code",
   "execution_count": 2,
   "id": "32bea8e0",
   "metadata": {},
   "outputs": [],
   "source": [
    "with open('01.txt', 'r') as fh1:\n",
    "    tmp1 = fh1.read()\n",
    "    itemlist1 = tmp1.split(',')"
   ]
  },
  {
   "cell_type": "code",
   "execution_count": 3,
   "id": "958f7fa3",
   "metadata": {},
   "outputs": [],
   "source": [
    "with open('02.txt', 'r',encoding='utf-8') as fh2:\n",
    "    tmp2 = fh2.read()\n",
    "    itemlist2 = tmp2.split(',')"
   ]
  },
  {
   "cell_type": "code",
   "execution_count": 4,
   "id": "e71e9d32",
   "metadata": {},
   "outputs": [],
   "source": [
    "with open('03.txt', 'r',encoding='utf-8') as fh3:\n",
    "    tmp3 = fh3.read()\n",
    "    itemlist3 = tmp3.split(',')"
   ]
  },
  {
   "cell_type": "code",
   "execution_count": 5,
   "id": "cee5dc18",
   "metadata": {},
   "outputs": [],
   "source": [
    "with open('04.txt', 'r',encoding='utf-8') as fh4:\n",
    "    tmp4 = fh4.read()\n",
    "    itemlist4 = tmp4.split(',')"
   ]
  },
  {
   "cell_type": "code",
   "execution_count": 6,
   "id": "0e5dd1ad",
   "metadata": {},
   "outputs": [],
   "source": [
    "itemlist1 = str(itemlist1)\n",
    "itemlist2 = str(itemlist2)\n",
    "itemlist3 = str(itemlist3)\n",
    "itemlist4 = str(itemlist4)"
   ]
  },
  {
   "cell_type": "code",
   "execution_count": 7,
   "id": "85c9ee66",
   "metadata": {},
   "outputs": [],
   "source": [
    "keyfile = open(\"key.txt\", \"r\")\n",
    "key = keyfile.readline()\n",
    "openai.api_key = key"
   ]
  },
  {
   "cell_type": "code",
   "execution_count": 8,
   "id": "bfeecd99",
   "metadata": {},
   "outputs": [],
   "source": [
    "data1 = [itemlist1[0:3200], itemlist1[3201:6400], \n",
    "        itemlist1[6401:9600], itemlist1[9601:12800], itemlist1[12801:16000]]\n",
    "data2 = [itemlist2[0:3200], itemlist2[3201:6400], \n",
    "        itemlist2[6401:9600], itemlist2[9601:12800], itemlist2[12801:16000]]\n",
    "data3 = [itemlist3[0:3200], itemlist3[3201:6400], \n",
    "        itemlist3[6401:9600], itemlist3[9601:12800], itemlist3[12801:16000]]\n",
    "data4 = [itemlist4[0:3200], itemlist4[3201:6400], \n",
    "        itemlist4[6401:9600], itemlist4[9601:12800], itemlist4[12801:16000]]"
   ]
  },
  {
   "cell_type": "code",
   "execution_count": 9,
   "id": "6316eab7",
   "metadata": {},
   "outputs": [
    {
     "data": {
      "text/plain": [
       "\"['\\\\nBlockchain in education management: present and future applications \\\\nPreeti Bhaskar \\\\nUniversity of Technology and Applied Sciences', ' Ibra', ' Oman and ICFAI Business School', ' ICFAI University', ' Dehradun', ' India \\\\n\\\\nChandan Kumar Tiwari \\\\nSymbiosis Centre for Management Studies', ' Noida', ' India and Symbiosis International (Deemed University)', ' Pune', ' India', ' and \\\\n\\\\nAmit Joshi \\\\nICFAI Business School', ' ICFAI University', ' Dehradun', ' India \\\\nAbstract \\\\nPurpose   This paper aims to provide a systematic literature review on blockchain technology in education to offer a detailed understanding of the present scenario in terms of bene.ts', ' barriers', ' present blockchain technology application and future areas where blockchain technology can be implemented in the other .elds of education. \\\\nDesign/methodology/approach   A bibliometric analysis is conducted on for data in the publications', ' journals', ' authors and citations were collected', ' and examined by applying bibliometric measures. The data was collected from SCOPUS database on the topic  Blockchain Technology in Education . The following research questions guided this systematic literature review (SLR: How blockchain technology has been de.ned in educational settings? How were the technology examined (i.e. the methodology)? What were the results of using this technology in an education system? \\\\nFindings   The study identi.es the bene.ts', ' barriers and present application of blockchain technology in education. The analysis shows that blockchain technology in education is still a young discipline', ' but has a lot of potential to bene.ts the educational sector at large. \\\\nPractical implications   This research provides a groundwork for education institutions', ' the policymakers and researchers to explore other areas where blockchain technology can be implemented', ' though this research has also suggested some prospective uses of blockchain technology in different functions of an education system', ' more application can be brought into the education system to exploit the potential of blockchain technology. \\\\nOriginality/value   The paper discusses the application of blockchain technology in education with the help of bibliometric analysis. This is one of the .rst known studies to review the blockchain technology by identifying its bene.ts', ' barriers', ' present blockchain technology application. Based on the analysis', ' future application areas are also identi.ed. \\\\nKeywords Systematic review', ' Education', ' Blockchain technology', ' Blockchain application \\\\nPaper type Literature review \\\\n1. Introduction \\\\nBlockchain was .rst used to a peer-to-peer ledger for record-keeping of the transactions of Bitcoin cryptocurrency. A blockchain transaction in the public ledger contains a veri.able record and once the information entered', ' it cannot be altered or erased in the future. The \\\\nBlockchain in education management \\\\nReceived 4 July 2020 Revised 19 September 2020 Accepted 10 October 2020 \\\\n\\\\nInteractive Technology and Smart Education Vol. 18 No. 1', ' 2021 pp. 1-17   Emerald Publishing Limited 1741-5659 DOI 10.1108/ITSE-07-2020-0102 \\\\n\\\\nBlockchain tech\""
      ]
     },
     "execution_count": 9,
     "metadata": {},
     "output_type": "execute_result"
    }
   ],
   "source": [
    "data1[0]"
   ]
  },
  {
   "cell_type": "code",
   "execution_count": 10,
   "id": "f5f31351",
   "metadata": {},
   "outputs": [
    {
     "data": {
      "text/plain": [
       "\"['‘Machine Learning’ for Mental Health.Dr.Gireesh.Y.M. Department of MBA', ' Siddaganga Institute of Technology', ' Tumakuru ', ' Karnataka\\\\n\\\\nOne must accept the fact that psychopathy still remained an unsolved problem at different levels. We have all observed that the people those who are suffering from different psychological disorders are ignored by the great society. But we must feel happy for that ‘Psychiatry’ is safe in hands of medical sciences at present situation as it was believed to be cured by some necromancers earlier.\\\\n\\\\nOne must realize that managing mental health is still a problem. According to world health organization', ' more than 30 crore people are affected only by severe mental health condition Depression or despondency in the globe. About 6 crore people are affected by Bipolar disorder and 2.5 people from Schizophrenia.These disorders were to be treated by either personal Counseling or appropriate medicine before.\\\\n\\\\n\\\\nNow Technology has started playing a crucial role in the process of detecting and healing mental illness. That is ‘MACHINE LEARNING.’ In an epitome', ' we can conclude that the very objective of this technology is to finding out the presence and types of the disorder with the help of special algorithms by providing huge data of patients to the computer. This can be properly called ‘computational psychiatry ‘\\\\n\\\\nIn a traditional treatment', ' Diagnosis of a particular psychological disorder was done by collecting the over-all information about the patient’s behavior', ' presence', ' intensity and types. Now it is hoped that this process will be able to perform more efficiently when applicability of Machine Learning is expedient.\\\\n\\\\nHuman neuro imaging lab( D. Chiyu lab) is one of the well-known institutions in USA which has been conducting research and experiments on this subject. First', ' the details of the answers to the questions', ' and the aspects of their behavior were collected on investigation. The second one is quite interesting to know… The people those who volunteered for this experiment will be sent into the specially designed scanner namely FMRI and they will be asked play some computer games which create social artificial situations.\\\\n\\\\n\\\\nDuring this process their brain will be scanned completely and the report will be provided to algorithms. How the person responds when confronted with different kinds of social situations is recorded here. This information includes what parts of the brain respond to it. The algorithm calculates this information', ' and informs us whether there are similarities and differences between the brains of the healthy and the brains of the mentally ill when performed. It gives some relevant information on how patients are treated. It also suggests that respondents must be able to judge with the help of comparison of scanned information of the healed persons. This can help determine if this type of mental condition is necessary to prevent individuals from going to hopeless state. All in all', ' it is a continuous effort to be made by the ingenious sharing of the information between human beings and machines. Another benefit of viewing mental illness is in terms of \""
      ]
     },
     "execution_count": 10,
     "metadata": {},
     "output_type": "execute_result"
    }
   ],
   "source": [
    "data2[0]"
   ]
  },
  {
   "cell_type": "code",
   "execution_count": 11,
   "id": "af436d6e",
   "metadata": {},
   "outputs": [],
   "source": [
    "def chatgptfn(sub_list):\n",
    "    result = ''\n",
    "    response = openai.ChatCompletion.create(\n",
    "        model=\"gpt-3.5-turbo\",\n",
    "        messages=[\n",
    "            {\"role\": \"system\", \"content\": \"You are an assistant\"},\n",
    "            {\"role\": \"user\", \"content\": f\"{sub_list} :give me a summary\"}\n",
    "        ]\n",
    "    )\n",
    "    for choice in response.choices:\n",
    "        result += choice.message.content\n",
    "    return result"
   ]
  },
  {
   "cell_type": "code",
   "execution_count": 12,
   "id": "c3fe940d",
   "metadata": {},
   "outputs": [],
   "source": [
    "#data1[0] = chatgptfn(data1[0])\n",
    "#data2[0] = chatgptfn(data2[0])\n",
    "#data3[0] = chatgptfn(data3[0])\n",
    "#data4[0] = chatgptfn(data4[0])"
   ]
  },
  {
   "cell_type": "code",
   "execution_count": 13,
   "id": "a68d919c",
   "metadata": {},
   "outputs": [],
   "source": [
    "#data1[1] = chatgptfn(data1[1])\n",
    "#data2[1] = chatgptfn(data2[1])\n",
    "#data3[1] = chatgptfn(data3[1])\n",
    "#data4[1] = chatgptfn(data4[1])"
   ]
  },
  {
   "cell_type": "code",
   "execution_count": 14,
   "id": "781d0043",
   "metadata": {},
   "outputs": [],
   "source": [
    "#data1[2] = chatgptfn(data1[2])\n",
    "#data1[3] = chatgptfn(data1[3])\n",
    "#data2[2] = chatgptfn(data2[2])\n",
    "#data2[3] = chatgptfn(data2[3])\n",
    "#data3[2] = chatgptfn(data3[2])\n",
    "#data3[3] = chatgptfn(data3[3])\n",
    "#data4[2] = chatgptfn(data4[2])\n",
    "#data4[3] = chatgptfn(data4[3])"
   ]
  },
  {
   "cell_type": "code",
   "execution_count": 15,
   "id": "a2ccbf11",
   "metadata": {},
   "outputs": [],
   "source": [
    "for i in range(0,5):\n",
    "    data1[i] = chatgptfn(data1[i])"
   ]
  },
  {
   "cell_type": "code",
   "execution_count": 16,
   "id": "c58ffdeb",
   "metadata": {},
   "outputs": [
    {
     "data": {
      "text/plain": [
       "'The paper provides a systematic literature review on blockchain technology in the education sector. The study identifies the benefits, barriers, and present applications of blockchain technology in education, and suggests prospective areas where blockchain technology can be implemented. The paper utilizes bibliometric analysis and is one of the first known studies to review blockchain technology in education. It aims to provide a comprehensive understanding of the current status of blockchain technology in education and its potential to benefit the educational sector at large.'"
      ]
     },
     "execution_count": 16,
     "metadata": {},
     "output_type": "execute_result"
    }
   ],
   "source": [
    "data1[0]"
   ]
  },
  {
   "cell_type": "code",
   "execution_count": 17,
   "id": "2029d406",
   "metadata": {},
   "outputs": [
    {
     "data": {
      "text/plain": [
       "'Blockchain technology allows for secure and decentralized transactions and verifications without the need for third-party intermediaries. The progress of blockchain can be classified into four generations, each with their own focus areas. The benefits of blockchain include security, decentralization, transparency, and immutability, and it has been used in various sectors such as finance, government, education, health, tourism, energy, public, banking, and business. The application of blockchain technology in education is still in its early stages, but it has the potential to create a globally trusted and decentralized higher education credit transfer and grading system. The strong cybersecurity capabilities of blockchain technology make it a promising solution for various sectors.'"
      ]
     },
     "execution_count": 17,
     "metadata": {},
     "output_type": "execute_result"
    }
   ],
   "source": [
    "data1[1]"
   ]
  },
  {
   "cell_type": "code",
   "execution_count": 18,
   "id": "b8642896",
   "metadata": {},
   "outputs": [
    {
     "data": {
      "text/plain": [
       "'This paper is a systematic literature review on blockchain technology in education, examining its current state and potential future applications. The study aims to explore the benefits of blockchain technology in facilitating teaching, learning, and administrative activities within schools, colleges, and universities. The research questions follow the Preferred Reporting Items for Systematic Reviews and Meta-Analyses (PRISMA) diagram methodology, and the results can inform policymakers, educators, and researchers on how to effectively implement blockchain technology in the education sector.'"
      ]
     },
     "execution_count": 18,
     "metadata": {},
     "output_type": "execute_result"
    }
   ],
   "source": [
    "data1[2]"
   ]
  },
  {
   "cell_type": "code",
   "execution_count": 19,
   "id": "5f105afb",
   "metadata": {},
   "outputs": [],
   "source": [
    "for i in range(0,5):\n",
    "    data2[i] = chatgptfn(data2[i])"
   ]
  },
  {
   "cell_type": "code",
   "execution_count": 20,
   "id": "61bf282d",
   "metadata": {},
   "outputs": [
    {
     "data": {
      "text/plain": [
       "\"The article discusses how technology, specifically machine learning, is playing a crucial role in detecting and healing mental illness. Traditional treatment involved collecting overall information about the patient's behavior, but machine learning can perform this process more efficiently by providing huge data of patients to the computer. The human neuro imaging lab in the USA conducts research and experiments using FMRI scanning to record how the brain responds when confronted with different kinds of social situations, which can help in diagnosing mental illnesses and suggesting treatment. The article emphasizes the importance of sharing information between humans and machines in the continuous effort to manage mental health.\""
      ]
     },
     "execution_count": 20,
     "metadata": {},
     "output_type": "execute_result"
    }
   ],
   "source": [
    "data2[0]"
   ]
  },
  {
   "cell_type": "code",
   "execution_count": 21,
   "id": "fafb697d",
   "metadata": {},
   "outputs": [],
   "source": [
    "for i in range(0,5):\n",
    "    data3[i] = chatgptfn(data3[i])"
   ]
  },
  {
   "cell_type": "code",
   "execution_count": 22,
   "id": "aa4e83dd",
   "metadata": {},
   "outputs": [],
   "source": [
    "for i in range(0,5):\n",
    "    data4[i] = chatgptfn(data4[i])"
   ]
  },
  {
   "cell_type": "code",
   "execution_count": 23,
   "id": "2b7f1e2f",
   "metadata": {},
   "outputs": [],
   "source": [
    "data11 = ''\n",
    "for i in range(0,5):\n",
    "    data11 = data11 + data1[i]"
   ]
  },
  {
   "cell_type": "code",
   "execution_count": 24,
   "id": "f5da01e4",
   "metadata": {},
   "outputs": [
    {
     "data": {
      "text/plain": [
       "['The paper provides a systematic literature review on blockchain technology in the education sector. The study identifies the benefits, barriers, and present applications of blockchain technology in education, and suggests prospective areas where blockchain technology can be implemented. The paper utilizes bibliometric analysis and is one of the first known studies to review blockchain technology in education. It aims to provide a comprehensive understanding of the current status of blockchain technology in education and its potential to benefit the educational sector at large.',\n",
       " 'Blockchain technology allows for secure and decentralized transactions and verifications without the need for third-party intermediaries. The progress of blockchain can be classified into four generations, each with their own focus areas. The benefits of blockchain include security, decentralization, transparency, and immutability, and it has been used in various sectors such as finance, government, education, health, tourism, energy, public, banking, and business. The application of blockchain technology in education is still in its early stages, but it has the potential to create a globally trusted and decentralized higher education credit transfer and grading system. The strong cybersecurity capabilities of blockchain technology make it a promising solution for various sectors.',\n",
       " 'This paper is a systematic literature review on blockchain technology in education, examining its current state and potential future applications. The study aims to explore the benefits of blockchain technology in facilitating teaching, learning, and administrative activities within schools, colleges, and universities. The research questions follow the Preferred Reporting Items for Systematic Reviews and Meta-Analyses (PRISMA) diagram methodology, and the results can inform policymakers, educators, and researchers on how to effectively implement blockchain technology in the education sector.',\n",
       " 'The article discusses the process of conducting a systematic literature review on the use of blockchain technology in education. The researchers searched through an academic database, identified relevant articles, and analyzed their content to gain a better understanding of the current state of literature on the topic. They found that while blockchain technology has been applied in various fields, its use in education is still relatively new and immature. The article provides a list of selected journals and cites several studies on the topic.',\n",
       " 'The paper discusses the potential applications of blockchain technology in education and the current issues with scalability and security of smart contracts. The literature survey shows that blockchain technology has tremendous applications in student data management, administration activities, and teaching and learning. The field of study is evolving and has gained significant attention since 2017, but the citation in Year-wise is not impressive. Most of the studies are qualitative or review-based, with a limited number of publications covering school education, online education, social sciences, and business and management education. The authors suggest the need for more research and exploration in these areas.']"
      ]
     },
     "execution_count": 24,
     "metadata": {},
     "output_type": "execute_result"
    }
   ],
   "source": [
    "data1"
   ]
  },
  {
   "cell_type": "code",
   "execution_count": 25,
   "id": "259a6d04",
   "metadata": {},
   "outputs": [],
   "source": [
    "data22 = ''\n",
    "for i in range(0,5):\n",
    "    data22 = data22 + data2[i]"
   ]
  },
  {
   "cell_type": "code",
   "execution_count": 26,
   "id": "b817fe1c",
   "metadata": {},
   "outputs": [
    {
     "data": {
      "text/plain": [
       "[\"The article discusses how technology, specifically machine learning, is playing a crucial role in detecting and healing mental illness. Traditional treatment involved collecting overall information about the patient's behavior, but machine learning can perform this process more efficiently by providing huge data of patients to the computer. The human neuro imaging lab in the USA conducts research and experiments using FMRI scanning to record how the brain responds when confronted with different kinds of social situations, which can help in diagnosing mental illnesses and suggesting treatment. The article emphasizes the importance of sharing information between humans and machines in the continuous effort to manage mental health.\",\n",
       " 'The article discusses the relevance of machine learning and artificial intelligence in the field of mental health diagnosis and awareness. It emphasizes the importance of understanding mental illness as a physical disorder in the brain, just like any other physical ailment, and promoting its treatment. The author also mentions the demand for graduates with expertise in machine learning and analytics in the current job market.',\n",
       " 'Sure, I can provide a summary of something for you. Can you please provide more information on what you need summarized?',\n",
       " 'Sure, I can provide a summary. However, I would need more context or information to know what specifically you are referring to. Please let me know what you would like me to summarize.',\n",
       " \"I'm sorry, I need more information as to what you would like me to summarize. Could you please specify what topic you want a summary on?\"]"
      ]
     },
     "execution_count": 26,
     "metadata": {},
     "output_type": "execute_result"
    }
   ],
   "source": [
    "data2"
   ]
  },
  {
   "cell_type": "code",
   "execution_count": 28,
   "id": "075836a4",
   "metadata": {},
   "outputs": [],
   "source": [
    "data33 = ''\n",
    "for i in range(0,5):\n",
    "    data33 = data33 + data3[i]"
   ]
  },
  {
   "cell_type": "code",
   "execution_count": 29,
   "id": "86ecc655",
   "metadata": {},
   "outputs": [],
   "source": [
    "data44 = ''\n",
    "for i in range(0,5):\n",
    "    data44 = data44 + data4[i]"
   ]
  },
  {
   "cell_type": "code",
   "execution_count": 30,
   "id": "e4aa0a1a",
   "metadata": {},
   "outputs": [],
   "source": [
    "papers = [data11, data22, data33, data44]"
   ]
  },
  {
   "cell_type": "code",
   "execution_count": 31,
   "id": "a6d6609b",
   "metadata": {},
   "outputs": [],
   "source": [
    "import gensim\n",
    "from gensim import corpora\n",
    "from pprint import pprint"
   ]
  },
  {
   "cell_type": "code",
   "execution_count": 32,
   "id": "f80dafe3",
   "metadata": {},
   "outputs": [],
   "source": [
    "# 創建詞袋\n",
    "texts = [[word for word in document.lower().split()] for document in papers]\n",
    "dictionary = corpora.Dictionary(texts)\n",
    "corpus = [dictionary.doc2bow(text) for text in texts]"
   ]
  },
  {
   "cell_type": "code",
   "execution_count": 33,
   "id": "31469bd9",
   "metadata": {},
   "outputs": [],
   "source": [
    "# 訓練 LDA 模型\n",
    "lda_model = gensim.models.ldamodel.LdaModel(corpus=corpus, id2word=dictionary, \n",
    "                                            num_topics=3, random_state=100, update_every=1, \n",
    "                                            chunksize=100, passes=10, alpha='auto', per_word_topics=True)"
   ]
  },
  {
   "cell_type": "code",
   "execution_count": 19,
   "id": "edbc2023",
   "metadata": {},
   "outputs": [
    {
     "name": "stdout",
     "output_type": "stream",
     "text": [
      "Requirement already satisfied: pyLDAvis in c:\\programdata\\anaconda3\\lib\\site-packages (3.4.0)\n",
      "Requirement already satisfied: pandas>=1.3.4 in c:\\programdata\\anaconda3\\lib\\site-packages (from pyLDAvis) (1.4.4)\n",
      "Requirement already satisfied: scipy in c:\\programdata\\anaconda3\\lib\\site-packages (from pyLDAvis) (1.9.1)\n",
      "Requirement already satisfied: numexpr in c:\\programdata\\anaconda3\\lib\\site-packages (from pyLDAvis) (2.8.3)\n",
      "Requirement already satisfied: jinja2 in c:\\programdata\\anaconda3\\lib\\site-packages (from pyLDAvis) (2.11.3)\n",
      "Requirement already satisfied: gensim in c:\\programdata\\anaconda3\\lib\\site-packages (from pyLDAvis) (4.1.2)\n",
      "Requirement already satisfied: funcy in c:\\programdata\\anaconda3\\lib\\site-packages (from pyLDAvis) (2.0)\n",
      "Requirement already satisfied: joblib>=1.2.0 in c:\\programdata\\anaconda3\\lib\\site-packages (from pyLDAvis) (1.2.0)\n",
      "Requirement already satisfied: setuptools in c:\\programdata\\anaconda3\\lib\\site-packages (from pyLDAvis) (63.4.1)\n",
      "Requirement already satisfied: scikit-learn>=1.0.0 in c:\\programdata\\anaconda3\\lib\\site-packages (from pyLDAvis) (1.0.2)\n",
      "Requirement already satisfied: numpy>=1.22.0 in c:\\programdata\\anaconda3\\lib\\site-packages (from pyLDAvis) (1.24.2)\n",
      "Requirement already satisfied: python-dateutil>=2.8.1 in c:\\programdata\\anaconda3\\lib\\site-packages (from pandas>=1.3.4->pyLDAvis) (2.8.2)\n",
      "Requirement already satisfied: pytz>=2020.1 in c:\\programdata\\anaconda3\\lib\\site-packages (from pandas>=1.3.4->pyLDAvis) (2022.1)\n",
      "Requirement already satisfied: threadpoolctl>=2.0.0 in c:\\programdata\\anaconda3\\lib\\site-packages (from scikit-learn>=1.0.0->pyLDAvis) (2.2.0)\n",
      "Requirement already satisfied: smart-open>=1.8.1 in c:\\programdata\\anaconda3\\lib\\site-packages (from gensim->pyLDAvis) (5.2.1)\n",
      "Requirement already satisfied: MarkupSafe>=0.23 in c:\\programdata\\anaconda3\\lib\\site-packages (from jinja2->pyLDAvis) (2.0.1)\n",
      "Requirement already satisfied: packaging in c:\\programdata\\anaconda3\\lib\\site-packages (from numexpr->pyLDAvis) (21.3)\n",
      "Requirement already satisfied: six>=1.5 in c:\\programdata\\anaconda3\\lib\\site-packages (from python-dateutil>=2.8.1->pandas>=1.3.4->pyLDAvis) (1.16.0)\n",
      "Requirement already satisfied: pyparsing!=3.0.5,>=2.0.2 in c:\\programdata\\anaconda3\\lib\\site-packages (from packaging->numexpr->pyLDAvis) (3.0.9)\n"
     ]
    }
   ],
   "source": [
    "!pip install pyLDAvis"
   ]
  },
  {
   "cell_type": "code",
   "execution_count": 34,
   "id": "d788ece8",
   "metadata": {},
   "outputs": [
    {
     "name": "stderr",
     "output_type": "stream",
     "text": [
      "C:\\ProgramData\\Anaconda3\\lib\\site-packages\\pyLDAvis\\_prepare.py:243: FutureWarning: In a future version of pandas all arguments of DataFrame.drop except for the argument 'labels' will be keyword-only.\n",
      "  default_term_info = default_term_info.sort_values(\n"
     ]
    },
    {
     "data": {
      "text/html": [
       "\n",
       "<link rel=\"stylesheet\" type=\"text/css\" href=\"https://cdn.jsdelivr.net/gh/bmabey/pyLDAvis@3.4.0/pyLDAvis/js/ldavis.v1.0.0.css\">\n",
       "\n",
       "\n",
       "<div id=\"ldavis_el1383230741881205767203618983\" style=\"background-color:white;\"></div>\n",
       "<script type=\"text/javascript\">\n",
       "\n",
       "var ldavis_el1383230741881205767203618983_data = {\"mdsDat\": {\"x\": [-0.0726574683609951, 0.08077088947423537, -0.008113421113240227], \"y\": [-0.03465536403008139, -0.02516526750966213, 0.059820631539743506], \"topics\": [1, 2, 3], \"cluster\": [1, 1, 1], \"Freq\": [62.700894935555404, 37.13422632995723, 0.1648787344873648]}, \"tinfo\": {\"Term\": [\"blockchain\", \"technology\", \"you\", \"learning\", \"will\", \"i\", \"what\", \"online\", \"me\", \"summary\", \"information\", \"in\", \"literature\", \"please\", \"the\", \"also\", \"as\", \"would\", \"like\", \"mental\", \"education,\", \"review\", \"systematic\", \"potential\", \"more\", \"of\", \"students\", \"are\", \"paper\", \"and\", \"you\", \"learning\", \"i\", \"what\", \"me\", \"information\", \"summary\", \"will\", \"please\", \"mental\", \"would\", \"like\", \"also\", \"machine\", \"know\", \"by\", \"about\", \"students\", \"online\", \"sorry,\", \"skills\", \"let\", \"topic\", \"becoming\", \"himachal\", \"pradesh\", \"teachers\", \"give\", \"as\", \"more\", \"are\", \"can\", \"to\", \"with\", \"provide\", \"a\", \"and\", \"for\", \"the\", \"of\", \"it\", \"need\", \"in\", \"education\", \"has\", \"on\", \"blockchain\", \"studies\", \"review\", \"literature\", \"systematic\", \"potential\", \"technology\", \"applications\", \"paper\", \"study\", \"areas.\", \"their\", \"decentralized\", \"been\", \"use\", \"researchers\", \"sector.the\", \"sectors\", \"public,\", \"covering\", \"banking,\", \"analyzed\", \"survey\", \"exploration\", \"year-wise\", \"finance,\", \"relevant\", \"tourism,\", \"number\", \"follow\", \"education,\", \"current\", \"in\", \"is\", \"the\", \"various\", \"and\", \"of\", \"on\", \"has\", \"education\", \"education.\", \"its\", \"a\", \"to\", \"for\", \"it\", \"can\", \"require\", \"seekers\", \"disruption\", \"1.2\", \"hard\", \"so\", \"complementing\", \"comes\", \"globally.\", \"chances\", \"well\", \"ideal\", \"impact\", \"critical\", \"bring\", \"screen\", \"mode\", \"training\", \"values,\", \"improves\", \"experience\", \"third\", \"186\", \"expected\", \"platforms\", \"unlearning\", \"latter\", \"looks\", \"refine\", \"innovative\", \"will\", \"and\", \"online\", \"teachers,\", \"both\", \"of\", \"with\", \"a\", \"learning\", \"the\", \"education\", \"learners\", \"becoming\", \"also\", \"as\", \"skills\", \"great\", \"teachers\", \"discussed,\", \"it\", \"solutions\", \"shift\", \"faced\", \"are\", \"for\", \"to\", \"in\", \"you\", \"be\", \"can\", \"on\", \"technology\", \"has\", \"i\"], \"Freq\": [13.0, 13.0, 12.0, 8.0, 5.0, 7.0, 7.0, 8.0, 6.0, 5.0, 5.0, 23.0, 4.0, 5.0, 55.0, 4.0, 6.0, 4.0, 4.0, 4.0, 5.0, 3.0, 3.0, 3.0, 6.0, 29.0, 3.0, 5.0, 3.0, 48.0, 12.247023672813144, 7.72951520676387, 6.996581069217135, 6.996408235909268, 6.247998760450721, 5.504943561295149, 5.498842118778536, 5.45043776822898, 4.751296098611144, 4.005420089171619, 4.001227636771529, 4.000392631407595, 3.986719952009319, 3.2545849017934008, 3.2518640218788115, 3.2480250598244407, 3.247768299231272, 3.2411608036342168, 7.382497930735074, 2.499979921246367, 2.4900960609057345, 2.5004841962063575, 2.5002418383888445, 2.4881442180863353, 2.4984523379666497, 2.4982179816911674, 2.487993789096155, 2.4968040203082884, 5.862038868417861, 5.858420037675362, 5.099759342190943, 9.336645194239116, 15.832176813964397, 8.699841227027273, 4.350318912494729, 16.414289352334954, 30.18005833497434, 8.874489640250959, 33.079361968129454, 17.610667114324773, 6.3122045562028575, 4.603185421875027, 11.707472936813241, 7.389118940047559, 4.043593845892538, 4.0086196391117, 12.137605488530578, 2.5763144643869667, 3.2758482257932755, 3.9499555547059706, 3.207058230464786, 3.197179908533642, 11.334931911310637, 2.4905951373279462, 3.1477710283479143, 2.4402787118520117, 1.7559103713371798, 1.7466528407132729, 1.7442084288687276, 1.7312925998186768, 1.7278631359151158, 1.726807843346867, 1.0348348882994596, 1.032604567842126, 1.031642157026716, 1.0264485716678808, 1.0247710134788577, 1.0242017178373097, 1.0235234283021248, 1.0221163013390533, 1.0214651812961952, 1.021044475397567, 1.0206368277045532, 1.020029831759699, 1.019114493669367, 1.0183180484349927, 3.8692659535869454, 3.0639973739254533, 11.413346857258107, 4.340563974322538, 22.39512254635186, 2.320813611625628, 18.177301913713602, 12.305113622758657, 4.313565502365915, 3.4662440246040465, 4.702979306784975, 2.321300766941537, 2.883058875222869, 5.500640639211146, 3.7211206108905244, 3.1150646462242215, 2.6312191642066387, 1.808903939580305, 0.0038048756632235504, 0.0038048700523132103, 0.0037959606280567825, 0.003794679002619911, 0.0037946813404992194, 0.003791411582498474, 0.0037871398094261434, 0.0037866287490093244, 0.0037859928458374363, 0.0037849798427331016, 0.0037821189798233974, 0.003781803132328831, 0.0037812315208379244, 0.0037774563133307, 0.003777342458608381, 0.0037770027647448683, 0.003774890257001787, 0.0037745199369193347, 0.003774202920485114, 0.0037731195472135957, 0.003772024718333466, 0.003771462925935655, 0.0037710278465963596, 0.0037702635938504396, 0.003770189483076363, 0.003769611793099254, 0.0037693864215339232, 0.003768434203291607, 0.003768371314338211, 0.003768336479936515, 0.004489461431102445, 0.005049816968290934, 0.004355844147412903, 0.0038921063821910937, 0.003881940581594325, 0.004540285992115601, 0.00420114901145458, 0.004324120527925335, 0.004121039239072529, 0.004435055706564662, 0.004152005385664172, 0.0038588549585754786, 0.003900392527823899, 0.00396429425053659, 0.004025257726534469, 0.003889967923987689, 0.003845470599534819, 0.0038793495099568123, 0.003838796655473095, 0.004001331402116317, 0.0038325573231748045, 0.0038249370055690353, 0.0038247184138536987, 0.003906163816684645, 0.003960667264577519, 0.003971385973630727, 0.0039779521414563335, 0.003936244842170123, 0.0038931843783402025, 0.003915182419904776, 0.0038786549260142827, 0.0038666616051621283, 0.0038586826568704487, 0.0038489930822888036], \"Total\": [13.0, 13.0, 12.0, 8.0, 5.0, 7.0, 7.0, 8.0, 6.0, 5.0, 5.0, 23.0, 4.0, 5.0, 55.0, 4.0, 6.0, 4.0, 4.0, 4.0, 5.0, 3.0, 3.0, 3.0, 6.0, 29.0, 3.0, 5.0, 3.0, 48.0, 12.541733906081445, 8.016529791629917, 7.282692127846018, 7.2841385438515625, 6.5355009078323345, 5.783751086089225, 5.781845687571959, 5.73553282496664, 5.0324047305493185, 4.281688863812918, 4.279700762517996, 4.2801846348360275, 4.266317719162475, 3.5309211055364744, 3.530809715918804, 3.5274810201460363, 3.5290523578185957, 3.522667703344026, 8.026634977634744, 2.776649413168301, 2.7670333714990414, 2.779068283234345, 2.7791793811728756, 2.7664309985535676, 2.7786290880690507, 2.77882281655087, 2.767965728540408, 2.7787199540423546, 6.547792287038575, 6.565756055046067, 5.8051854836727665, 11.149464316239326, 19.557268810828553, 10.36764818828712, 5.063250934857118, 21.919254112074025, 48.36241006565623, 11.993514953739757, 55.478919570187884, 29.920321023075545, 8.947425051811614, 5.855304900998211, 23.124797746212806, 12.0962502522182, 7.513696553153455, 8.326063796403629, 13.412731504627374, 2.947116434757177, 3.7490329356925405, 4.549499154603857, 3.743909454797411, 3.7438425004446216, 13.350097117093464, 2.940979619364002, 3.7405194870912735, 2.936692102881543, 2.136014219697125, 2.1351136961591837, 2.1348031335971407, 2.1341495525433354, 2.133851099218588, 2.1334496541805366, 1.3318044224991723, 1.331647501453411, 1.3313747232726103, 1.3311866537021522, 1.330983686163571, 1.3309050371785072, 1.330589509556287, 1.3306999455028825, 1.3305696647969083, 1.330686467405804, 1.3307582905572597, 1.3307016505962832, 1.3305455382966551, 1.33046623641079, 5.293563725611999, 4.485403665620408, 23.124797746212806, 7.5811702179010965, 55.478919570187884, 3.6781603305572848, 48.36241006565623, 29.920321023075545, 8.326063796403629, 7.513696553153455, 12.0962502522182, 4.4272672132469735, 6.7243296883495285, 21.919254112074025, 19.557268810828553, 11.993514953739757, 8.947425051811614, 11.149464316239326, 1.2685452053505555, 1.2685758948674377, 1.2691243100529013, 1.2692311081508227, 1.2692608396673837, 1.2694725413107912, 1.2697594454312424, 1.2697763609787323, 1.269797875336016, 1.2698927376270375, 1.270065331601858, 1.2701243111703213, 1.2701554300898188, 1.2703639417438972, 1.2704179504676538, 1.2704325171971214, 1.2705611579045701, 1.2706001714409383, 1.2706339647418883, 1.2706786567837172, 1.270777103518414, 1.2708167277496054, 1.2708052736776563, 1.270882727216639, 1.2708807613951543, 1.2709458558227837, 1.2709710360463458, 1.2709918049478035, 1.2710194479919616, 1.2710118669111496, 5.73553282496664, 48.36241006565623, 8.026634977634744, 2.014841146153149, 2.015511189908558, 29.920321023075545, 10.36764818828712, 21.919254112074025, 8.016529791629917, 55.478919570187884, 12.0962502522182, 2.017065509564398, 2.7664309985535676, 4.266317719162475, 6.547792287038575, 2.7670333714990414, 2.017933250663434, 2.767965728540408, 2.0184364769231897, 8.947425051811614, 2.018848852972908, 2.019392064149464, 2.019400400455106, 5.8051854836727665, 11.993514953739757, 19.557268810828553, 23.124797746212806, 12.541733906081445, 5.103295736992749, 11.149464316239326, 8.326063796403629, 13.350097117093464, 7.513696553153455, 7.282692127846018], \"Category\": [\"Default\", \"Default\", \"Default\", \"Default\", \"Default\", \"Default\", \"Default\", \"Default\", \"Default\", \"Default\", \"Default\", \"Default\", \"Default\", \"Default\", \"Default\", \"Default\", \"Default\", \"Default\", \"Default\", \"Default\", \"Default\", \"Default\", \"Default\", \"Default\", \"Default\", \"Default\", \"Default\", \"Default\", \"Default\", \"Default\", \"Topic1\", \"Topic1\", \"Topic1\", \"Topic1\", \"Topic1\", \"Topic1\", \"Topic1\", \"Topic1\", \"Topic1\", \"Topic1\", \"Topic1\", \"Topic1\", \"Topic1\", \"Topic1\", \"Topic1\", \"Topic1\", \"Topic1\", \"Topic1\", \"Topic1\", \"Topic1\", \"Topic1\", \"Topic1\", \"Topic1\", \"Topic1\", \"Topic1\", \"Topic1\", \"Topic1\", \"Topic1\", \"Topic1\", \"Topic1\", \"Topic1\", \"Topic1\", \"Topic1\", \"Topic1\", \"Topic1\", \"Topic1\", \"Topic1\", \"Topic1\", \"Topic1\", \"Topic1\", \"Topic1\", \"Topic1\", \"Topic1\", \"Topic1\", \"Topic1\", \"Topic1\", \"Topic2\", \"Topic2\", \"Topic2\", \"Topic2\", \"Topic2\", \"Topic2\", \"Topic2\", \"Topic2\", \"Topic2\", \"Topic2\", \"Topic2\", \"Topic2\", \"Topic2\", \"Topic2\", \"Topic2\", \"Topic2\", \"Topic2\", \"Topic2\", \"Topic2\", \"Topic2\", \"Topic2\", \"Topic2\", \"Topic2\", \"Topic2\", \"Topic2\", \"Topic2\", \"Topic2\", \"Topic2\", \"Topic2\", \"Topic2\", \"Topic2\", \"Topic2\", \"Topic2\", \"Topic2\", \"Topic2\", \"Topic2\", \"Topic2\", \"Topic2\", \"Topic2\", \"Topic2\", \"Topic2\", \"Topic2\", \"Topic2\", \"Topic2\", \"Topic2\", \"Topic2\", \"Topic2\", \"Topic2\", \"Topic3\", \"Topic3\", \"Topic3\", \"Topic3\", \"Topic3\", \"Topic3\", \"Topic3\", \"Topic3\", \"Topic3\", \"Topic3\", \"Topic3\", \"Topic3\", \"Topic3\", \"Topic3\", \"Topic3\", \"Topic3\", \"Topic3\", \"Topic3\", \"Topic3\", \"Topic3\", \"Topic3\", \"Topic3\", \"Topic3\", \"Topic3\", \"Topic3\", \"Topic3\", \"Topic3\", \"Topic3\", \"Topic3\", \"Topic3\", \"Topic3\", \"Topic3\", \"Topic3\", \"Topic3\", \"Topic3\", \"Topic3\", \"Topic3\", \"Topic3\", \"Topic3\", \"Topic3\", \"Topic3\", \"Topic3\", \"Topic3\", \"Topic3\", \"Topic3\", \"Topic3\", \"Topic3\", \"Topic3\", \"Topic3\", \"Topic3\", \"Topic3\", \"Topic3\", \"Topic3\", \"Topic3\", \"Topic3\", \"Topic3\", \"Topic3\", \"Topic3\", \"Topic3\", \"Topic3\", \"Topic3\", \"Topic3\", \"Topic3\", \"Topic3\"], \"logprob\": [30.0, 29.0, 28.0, 27.0, 26.0, 25.0, 24.0, 23.0, 22.0, 21.0, 20.0, 19.0, 18.0, 17.0, 16.0, 15.0, 14.0, 13.0, 12.0, 11.0, 10.0, 9.0, 8.0, 7.0, 6.0, 5.0, 4.0, 3.0, 2.0, 1.0, -4.1329, -4.5931, -4.6927, -4.6928, -4.8059, -4.9325, -4.9336, -4.9425, -5.0798, -5.2505, -5.2516, -5.2518, -5.2552, -5.4581, -5.4589, -5.4601, -5.4602, -5.4622, -4.6391, -5.7219, -5.7258, -5.7217, -5.7218, -5.7266, -5.7225, -5.7226, -5.7267, -5.7232, -4.8697, -4.8703, -5.009, -4.4042, -3.8761, -4.4749, -5.1679, -3.84, -3.231, -4.455, -3.1393, -3.7697, -4.7957, -5.1114, -4.1779, -4.6382, -5.241, -5.2497, -3.618, -5.168, -4.9278, -4.7406, -4.949, -4.9521, -3.6864, -5.2018, -4.9676, -5.2222, -5.5513, -5.5566, -5.558, -5.5655, -5.5674, -5.5681, -6.0801, -6.0823, -6.0832, -6.0882, -6.0899, -6.0904, -6.0911, -6.0925, -6.0931, -6.0935, -6.0939, -6.0945, -6.0954, -6.0962, -4.7613, -4.9946, -3.6796, -4.6463, -3.0055, -5.2724, -3.2142, -3.6043, -4.6526, -4.8713, -4.5661, -5.2722, -5.0555, -4.4095, -4.8003, -4.9781, -5.1469, -5.5216, -6.2687, -6.2687, -6.2711, -6.2714, -6.2714, -6.2723, -6.2734, -6.2735, -6.2737, -6.274, -6.2747, -6.2748, -6.275, -6.276, -6.276, -6.2761, -6.2766, -6.2767, -6.2768, -6.2771, -6.2774, -6.2775, -6.2777, -6.2779, -6.2779, -6.278, -6.2781, -6.2783, -6.2784, -6.2784, -6.1033, -5.9857, -6.1335, -6.2461, -6.2487, -6.092, -6.1696, -6.1408, -6.1889, -6.1155, -6.1814, -6.2546, -6.2439, -6.2277, -6.2124, -6.2466, -6.2581, -6.2493, -6.2598, -6.2184, -6.2615, -6.2635, -6.2635, -6.2424, -6.2286, -6.2259, -6.2242, -6.2348, -6.2458, -6.2401, -6.2495, -6.2526, -6.2547, -6.2572], \"loglift\": [30.0, 29.0, 28.0, 27.0, 26.0, 25.0, 24.0, 23.0, 22.0, 21.0, 20.0, 19.0, 18.0, 17.0, 16.0, 15.0, 14.0, 13.0, 12.0, 11.0, 10.0, 9.0, 8.0, 7.0, 6.0, 5.0, 4.0, 3.0, 2.0, 1.0, 0.443, 0.4303, 0.4267, 0.4265, 0.4218, 0.4174, 0.4166, 0.4158, 0.4093, 0.4001, 0.3995, 0.3992, 0.399, 0.3853, 0.3845, 0.3843, 0.3837, 0.3835, 0.3831, 0.3618, 0.3613, 0.3612, 0.361, 0.3608, 0.3605, 0.3603, 0.3602, 0.3598, 0.3562, 0.3528, 0.3372, 0.2894, 0.2555, 0.2914, 0.315, 0.1776, -0.0047, 0.1656, -0.0503, -0.0632, 0.1179, 0.2262, -0.2139, -0.0261, -0.1528, -0.2641, 0.8907, 0.8562, 0.8557, 0.8493, 0.8359, 0.8328, 0.827, 0.8244, 0.8181, 0.8055, 0.7947, 0.7898, 0.7886, 0.7814, 0.7796, 0.7792, 0.7383, 0.7363, 0.7356, 0.7307, 0.7292, 0.7287, 0.7283, 0.7268, 0.7263, 0.7258, 0.7253, 0.7248, 0.724, 0.7233, 0.6772, 0.6095, 0.2845, 0.433, 0.0835, 0.5301, 0.0121, 0.1021, 0.333, 0.217, 0.0459, 0.345, 0.1438, -0.3919, -0.6687, -0.3575, -0.2333, -0.828, 0.5984, 0.5983, 0.5956, 0.5951, 0.5951, 0.5941, 0.5927, 0.5926, 0.5924, 0.5921, 0.5912, 0.591, 0.5909, 0.5897, 0.5896, 0.5895, 0.5889, 0.5887, 0.5886, 0.5883, 0.5879, 0.5878, 0.5877, 0.5874, 0.5874, 0.5872, 0.5871, 0.5868, 0.5868, 0.5868, -0.745, -2.7594, -1.1113, 0.1584, 0.1554, -2.3856, -1.4034, -2.1232, -1.1654, -3.0265, -1.5693, 0.1487, -0.1565, -0.5735, -0.9866, -0.1594, 0.1448, -0.1625, 0.1428, -1.3048, 0.141, 0.1387, 0.1386, -0.8962, -1.608, -2.0943, -2.2602, -1.6589, -0.7707, -1.5466, -1.2639, -1.7392, -1.1664, -1.1377]}, \"token.table\": {\"Topic\": [1, 1, 1, 2, 1, 1, 2, 1, 2, 2, 1, 2, 2, 1, 2, 2, 1, 2, 1, 2, 1, 2, 1, 1, 1, 1, 2, 1, 1, 1, 2, 1, 1, 2, 2, 1, 1, 1, 2, 1, 2, 1, 2, 1, 1, 2, 1, 2, 2, 1, 2, 1, 1, 1, 1, 1, 2, 1, 1, 1, 1, 1, 1, 2, 1, 1, 1, 2, 1, 2, 1, 2, 1, 1, 1, 1, 1, 1, 1, 2, 1, 1, 1, 1, 1, 1, 2, 1, 2, 2, 1, 2, 1, 2, 1, 2, 1, 2, 1, 1, 1, 2, 1, 1, 2, 2, 1, 2, 1, 2, 2, 1, 2, 2, 1, 1, 1, 1, 1, 1, 1, 2, 2, 1, 2, 1, 2, 1, 1, 1, 2, 1, 2, 2, 1, 1, 2, 1, 2, 1, 1, 2, 1, 1, 2, 1, 1, 1, 1, 2, 1, 2, 1], \"Freq\": [0.7878785774932093, 0.7869026204982945, 0.7299518459064053, 0.273731942214902, 0.8500865659738702, 0.9375766793067731, 0.7513684087633935, 0.6203164804911988, 0.37218988829471933, 0.6800455150493384, 0.8612989221554813, 0.17225978443109624, 0.936323354759122, 0.9163393915040744, 0.15272323191734574, 0.7513240097498123, 0.7838072112899154, 0.19595180282247884, 0.7229531483148154, 0.9371414471008065, 0.07455602907245265, 0.8946723488694318, 0.9923040913956614, 0.7871425302451762, 0.8504652421562289, 0.8072136691707595, 0.1793808153712799, 0.7874680832245976, 0.7875402556944823, 0.7875507471892637, 0.7512094545260865, 0.787175995114633, 0.22294537449656335, 0.6688361234896901, 0.9368545363852836, 0.9908659612853938, 0.7879448782746244, 0.5786917312426093, 0.41335123660186385, 0.1889086543270787, 0.7556346173083148, 0.4517459425118352, 0.4517459425118352, 0.7868546629712252, 0.7869200642908102, 0.7514842120340598, 0.9903929896959841, 0.7514918235769821, 0.7516162174078979, 0.7504055345504586, 0.2501351781834862, 0.7197558707168354, 0.7875269122933273, 0.9911130605249018, 0.7878601220077468, 0.5323611316617815, 0.3992708487463361, 0.7197794079777152, 0.9611830181911549, 0.7873245092667955, 0.7873052197472282, 0.7869810314837219, 0.5189234574804125, 0.47567983602371144, 1.0373890422827645, 0.7867747155109018, 0.395717272369934, 0.5276230298265786, 0.6705839909533705, 0.33529199547668526, 0.5948548309477358, 0.4461411232108019, 0.8496634600483776, 0.7867999912183169, 0.9915394371261232, 0.997938036524585, 1.0794984844735551, 0.9345391241873935, 0.2198044149514902, 0.8792176598059608, 0.78678713435219, 0.849636655799533, 0.9180627597816451, 0.9342108049481043, 0.7870538098687166, 0.9138323065458305, 0.15230538442430508, 0.8539264964916858, 0.17078529929833716, 0.7515714203064296, 0.6015978233026913, 0.40106521553512753, 0.4804190909187803, 0.4804190909187803, 0.8720964662657091, 0.12458520946652989, 0.2673425451868522, 0.8020276355605566, 0.7868558800923343, 0.9935607860884867, 0.26710525346118036, 0.8013157603835411, 0.7197292278182887, 0.7900062729387276, 0.1975015682346819, 0.7511033389171844, 0.7867700227403006, 0.7514512643624008, 0.7883045836932989, 0.9374488852272472, 0.8002063602692316, 0.7871335048997641, 0.7508609996379716, 0.7509494809313739, 0.7882855129487518, 0.9903970781634068, 0.7227957640845145, 0.7877287357215714, 0.990663564067636, 0.720292590960519, 0.851627304259251, 1.0179441723506863, 0.6810383689994463, 0.8647757602295524, 0.7515465835391044, 0.2671004766738173, 0.8013014300214519, 0.7225522987434645, 0.9926340862248697, 0.1498116442493291, 0.82396404337131, 0.5948205238252848, 0.3965470158835232, 0.9367182663844847, 0.7868955280206497, 0.8181101438428382, 0.20452753596070955, 1.0794553314273414, 0.7514832491204194, 0.7870296435313233, 0.7868155794509601, 0.9372725213733967, 0.7870087119882209, 0.2718750435352795, 0.543750087070559, 0.7873610712125804, 0.9609921554702718, 0.871758588536904, 0.8680850118127827, 0.1929077804028406, 0.9346447852224528, 0.7515577924682622, 0.956805501524892], \"Term\": [\"1.2\", \"186\", \"a\", \"a\", \"about\", \"also\", \"analyzed\", \"and\", \"and\", \"applications\", \"are\", \"are\", \"areas.\", \"as\", \"as\", \"banking,\", \"be\", \"be\", \"becoming\", \"been\", \"blockchain\", \"blockchain\", \"both\", \"bring\", \"by\", \"can\", \"can\", \"chances\", \"comes\", \"complementing\", \"covering\", \"critical\", \"current\", \"current\", \"decentralized\", \"discussed,\", \"disruption\", \"education\", \"education\", \"education,\", \"education,\", \"education.\", \"education.\", \"expected\", \"experience\", \"exploration\", \"faced\", \"finance,\", \"follow\", \"for\", \"for\", \"give\", \"globally.\", \"great\", \"hard\", \"has\", \"has\", \"himachal\", \"i\", \"ideal\", \"impact\", \"improves\", \"in\", \"in\", \"information\", \"innovative\", \"is\", \"is\", \"it\", \"it\", \"its\", \"its\", \"know\", \"latter\", \"learners\", \"learning\", \"let\", \"like\", \"literature\", \"literature\", \"looks\", \"machine\", \"me\", \"mental\", \"mode\", \"more\", \"more\", \"need\", \"need\", \"number\", \"of\", \"of\", \"on\", \"on\", \"online\", \"online\", \"paper\", \"paper\", \"platforms\", \"please\", \"potential\", \"potential\", \"pradesh\", \"provide\", \"provide\", \"public,\", \"refine\", \"relevant\", \"require\", \"researchers\", \"review\", \"screen\", \"sector.the\", \"sectors\", \"seekers\", \"shift\", \"skills\", \"so\", \"solutions\", \"sorry,\", \"students\", \"studies\", \"study\", \"summary\", \"survey\", \"systematic\", \"systematic\", \"teachers\", \"teachers,\", \"technology\", \"technology\", \"the\", \"the\", \"their\", \"third\", \"to\", \"to\", \"topic\", \"tourism,\", \"training\", \"unlearning\", \"use\", \"values,\", \"various\", \"various\", \"well\", \"what\", \"will\", \"with\", \"with\", \"would\", \"year-wise\", \"you\"]}, \"R\": 30, \"lambda.step\": 0.01, \"plot.opts\": {\"xlab\": \"PC1\", \"ylab\": \"PC2\"}, \"topic.order\": [2, 1, 3]};\n",
       "\n",
       "function LDAvis_load_lib(url, callback){\n",
       "  var s = document.createElement('script');\n",
       "  s.src = url;\n",
       "  s.async = true;\n",
       "  s.onreadystatechange = s.onload = callback;\n",
       "  s.onerror = function(){console.warn(\"failed to load library \" + url);};\n",
       "  document.getElementsByTagName(\"head\")[0].appendChild(s);\n",
       "}\n",
       "\n",
       "if(typeof(LDAvis) !== \"undefined\"){\n",
       "   // already loaded: just create the visualization\n",
       "   !function(LDAvis){\n",
       "       new LDAvis(\"#\" + \"ldavis_el1383230741881205767203618983\", ldavis_el1383230741881205767203618983_data);\n",
       "   }(LDAvis);\n",
       "}else if(typeof define === \"function\" && define.amd){\n",
       "   // require.js is available: use it to load d3/LDAvis\n",
       "   require.config({paths: {d3: \"https://d3js.org/d3.v5\"}});\n",
       "   require([\"d3\"], function(d3){\n",
       "      window.d3 = d3;\n",
       "      LDAvis_load_lib(\"https://cdn.jsdelivr.net/gh/bmabey/pyLDAvis@3.4.0/pyLDAvis/js/ldavis.v3.0.0.js\", function(){\n",
       "        new LDAvis(\"#\" + \"ldavis_el1383230741881205767203618983\", ldavis_el1383230741881205767203618983_data);\n",
       "      });\n",
       "    });\n",
       "}else{\n",
       "    // require.js not available: dynamically load d3 & LDAvis\n",
       "    LDAvis_load_lib(\"https://d3js.org/d3.v5.js\", function(){\n",
       "         LDAvis_load_lib(\"https://cdn.jsdelivr.net/gh/bmabey/pyLDAvis@3.4.0/pyLDAvis/js/ldavis.v3.0.0.js\", function(){\n",
       "                 new LDAvis(\"#\" + \"ldavis_el1383230741881205767203618983\", ldavis_el1383230741881205767203618983_data);\n",
       "            })\n",
       "         });\n",
       "}\n",
       "</script>"
      ],
      "text/plain": [
       "<IPython.core.display.HTML object>"
      ]
     },
     "execution_count": 34,
     "metadata": {},
     "output_type": "execute_result"
    }
   ],
   "source": [
    "# 輸出主題模型分析結果\n",
    "import pyLDAvis.gensim\n",
    "pyLDAvis.enable_notebook()\n",
    "vis = pyLDAvis.gensim.prepare(lda_model, corpus, dictionary)\n",
    "pyLDAvis.display(vis)"
   ]
  },
  {
   "cell_type": "code",
   "execution_count": null,
   "id": "dabcffc7",
   "metadata": {},
   "outputs": [],
   "source": []
  }
 ],
 "metadata": {
  "kernelspec": {
   "display_name": "Python 3 (ipykernel)",
   "language": "python",
   "name": "python3"
  },
  "language_info": {
   "codemirror_mode": {
    "name": "ipython",
    "version": 3
   },
   "file_extension": ".py",
   "mimetype": "text/x-python",
   "name": "python",
   "nbconvert_exporter": "python",
   "pygments_lexer": "ipython3",
   "version": "3.9.13"
  }
 },
 "nbformat": 4,
 "nbformat_minor": 5
}
